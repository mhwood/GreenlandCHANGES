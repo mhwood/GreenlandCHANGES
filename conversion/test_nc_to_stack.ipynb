{
 "cells": [
  {
   "cell_type": "code",
   "execution_count": 2,
   "metadata": {},
   "outputs": [],
   "source": [
    "import os\n",
    "import netCDF4 as nc4\n",
    "import numpy as np\n",
    "import toolbox.collection as collection\n",
    "import toolbox.IcesheetCHANGES as changes"
   ]
  },
  {
   "cell_type": "markdown",
   "metadata": {},
   "source": [
    "### Print available collections"
   ]
  },
  {
   "cell_type": "code",
   "execution_count": 3,
   "metadata": {},
   "outputs": [
    {
     "name": "stdout",
     "output_type": "stream",
     "text": [
      "Available collections: \n",
      "\n",
      "MEaSUREs Annual Antarctic Ice Velocity Maps V001\n",
      "Short name: MEaSUREs Antarctic Annual Velocity\n",
      "\n",
      "MEaSUREs Greenland Quarterly Ice Sheet Velocity Mosaics from SAR and Landsat V005\n",
      "Short name: MEaSUREs Greenland Quarterly Velocity\n",
      "\n",
      "MEaSUREs Greenland Monthly Ice Sheet Velocity Mosaics from SAR and Landsat, Version 5\n",
      "Short name: MEaSUREs Greenland Monthly Velocity\n",
      "\n",
      "ATLAS/ICESat-2 L3B Gridded Antarctic and Arctic Land Ice Height, Version 2\n",
      "Short name: ATL14 Antarctic Elevation\n",
      "\n",
      "ATLAS/ICESat-2 L3B Gridded Antarctic and Arctic Land Ice Height Change, Version 2\n",
      "Short name: ATL15 Antarctic Elevation\n",
      "\n",
      "None\n"
     ]
    }
   ],
   "source": [
    "print(collection.print_collections())"
   ]
  },
  {
   "cell_type": "markdown",
   "metadata": {},
   "source": [
    "### Set Options"
   ]
  },
  {
   "cell_type": "code",
   "execution_count": 4,
   "metadata": {},
   "outputs": [],
   "source": [
    "collection_key = 'MEaSUREs Antarctic Annual Velocity'\n",
    "region_name = 'Antarctic'       # 'Antarctica' or 'Greenland'\n",
    "data_type = 'velocity'          # 'velocity' or 'elevation'\n",
    "#glacier_name = 'Pine Island'     \n",
    "glacier_name = 'Antarctica'\n",
    "\n",
    "project_folder = '/Users/tara/Documents/SJSU/MLML/Projects/CHANGES/Examples'\n",
    "#data_folder = '/Users/tara/Documents/SJSU/MLML/Test Data/ncs/'\n",
    "              #'/Volumes/Seagate/CHANGES/data_repository/tutorial'\n",
    "data_folder = '/Volumes/Seagate/CHANGES/data_repository/tutorial'"
   ]
  },
  {
   "cell_type": "markdown",
   "metadata": {},
   "source": [
    "### Initialize Changes Object"
   ]
  },
  {
   "cell_type": "code",
   "execution_count": 5,
   "metadata": {},
   "outputs": [
    {
     "name": "stdout",
     "output_type": "stream",
     "text": [
      "Collection ID:  C2245171699-NSIDC_ECS\n",
      "Region name:\t\t Antarctic\n",
      "Collection name:\t MEaSUREs Annual Antarctic Ice Velocity Maps V001\n",
      "Collection short name:\t MEaSUREs Antarctic Annual Velocity\n",
      "Collection ID: \t\t C2245171699-NSIDC_ECS\n",
      "Data type:\t\t Velocity\n",
      "Projection:\t\t 3031\n",
      "Download path:\t\t /Volumes/Seagate/CHANGES/data_repository/tutorial/Antarctic/Velocity/MEaSUREs Antarctic Annual Velocity/Data\n",
      "Metadata path:\t\t /Users/tara/Documents/SJSU/MLML/Projects/CHANGES/Examples/Antarctic/Velocity/Metadata\n"
     ]
    }
   ],
   "source": [
    "collection_id = collection.collection(collection_key)\n",
    "print('Collection ID: ', collection_id)\n",
    "\n",
    "IC = changes.AntarcticCHANGES(project_folder, data_folder, collection_key, collection_id, region_name, data_type)\n",
    "IC.velocity_grid_posting = 50000\n",
    "IC.glacier_name = glacier_name\n",
    "IC.print_attributes()"
   ]
  },
  {
   "cell_type": "code",
   "execution_count": 6,
   "metadata": {},
   "outputs": [],
   "source": [
    "# Estimated extents of pine island glacier\n",
    "min_x = -1670811.49223\n",
    "min_y = -342750.13133\n",
    "max_x = -1546045.93205\n",
    "max_y = -279597.95439\n",
    "IC.extents = [min_x, min_y, max_x, max_y]  #minX, minY, maxX, maxY"
   ]
  },
  {
   "cell_type": "code",
   "execution_count": 7,
   "metadata": {},
   "outputs": [],
   "source": [
    "# Extents for Antarctica (estimated) TEMPORARY\n",
    "x = [-2525725.161631, -1969164.736031, -529013.605469, -314793.229530, -85039.233025, -195124.382447, 212361.833364, 323206.286926, 1203859.622106, 2442332.087405, 2477479.184929, 465453.711660, 2158704.981460, -736133.500297]\n",
    "y = [1621194.950833, -329249.148704, -1299650.368502, -1124088.890017, -766824.476681, -505840.940327, -1270088.123800, -1970165.590919, -2109988.900373, -1020436.845258, 313287.294861, -2072759.504125, 1580566.125097, 1058972.421230]\n",
    "\n",
    "min_x = min(x)\n",
    "max_x = max(x)\n",
    "min_y = min(y)\n",
    "max_y = max(y)\n",
    "IC.extents = [min_x, min_y, max_x, max_y]  #minX, minY, maxX, maxY"
   ]
  },
  {
   "cell_type": "markdown",
   "metadata": {},
   "source": [
    "### Get files to stack"
   ]
  },
  {
   "cell_type": "code",
   "execution_count": 19,
   "metadata": {},
   "outputs": [
    {
     "name": "stdout",
     "output_type": "stream",
     "text": [
      "['Antarctica_ice_velocity_2000_2001_1km_v01.1.nc', 'Antarctica_ice_velocity_2005_2006_1km_v01.nc', 'Antarctica_ice_velocity_2006_2007_1km_v01.nc', 'Antarctica_ice_velocity_2007_2008_1km_v01.nc', 'Antarctica_ice_velocity_2008_2009_1km_v01.nc', 'Antarctica_ice_velocity_2009_2010_1km_v01.nc', 'Antarctica_ice_velocity_2010_2011_1km_v01.nc', 'Antarctica_ice_velocity_2011_2012_1km_v01.nc', 'Antarctica_ice_velocity_2012_2013_1km_v01.nc', 'Antarctica_ice_velocity_2013_2014_1km_v01.nc', 'Antarctica_ice_velocity_2014_2015_1km_v01.nc', 'Antarctica_ice_velocity_2015_2016_1km_v01.nc', 'Antarctica_ice_velocity_2016_2017_1km_v01.nc', 'Antarctica_ice_velocity_2017_2018_1km_v01.1.nc', 'Antarctica_ice_velocity_2018_2019_1km_v01.1.nc', 'Antarctica_ice_velocity_2019_2020_1km_v01.1.nc']\n"
     ]
    }
   ],
   "source": [
    "files = os.listdir(IC.download_path)\n",
    "files = [f for f in files if f.endswith('.nc')]\n",
    "\n",
    "# Check the file names are as expected\n",
    "print(files)"
   ]
  },
  {
   "attachments": {},
   "cell_type": "markdown",
   "metadata": {},
   "source": [
    "### Set extents\n",
    "\n",
    "ChatGPT:\n",
    "Based on my knowledge cutoff in September 2021, the Pine Island Glacier is approximately located between approximately 74.5°S to 75.5°S latitude and 99.5°W to 102.5°W longitude in West Antarctica. However, please note that these coordinates are approximate, and for the most accurate and up-to-date information, it’s recommended to refer to recent scientific sources or maps.\n",
    "\n",
    "espg.io transform:\n",
    "\n",
    "min_x = -1670811.49223\n",
    "\n",
    "min_y = -342750.13133\n",
    "\n",
    "max_x = -1546045.93205\n",
    "\n",
    "max_y = -279597.95439"
   ]
  },
  {
   "cell_type": "code",
   "execution_count": 20,
   "metadata": {},
   "outputs": [
    {
     "name": "stdout",
     "output_type": "stream",
     "text": [
      "-2525725.161631 2477479.184929\n",
      "-2109988.900373 1621194.950833\n"
     ]
    }
   ],
   "source": [
    "x = [-2525725.161631, -1969164.736031, -529013.605469, -314793.229530, -85039.233025, -195124.382447, 212361.833364, 323206.286926, 1203859.622106, 2442332.087405, 2477479.184929, 465453.711660, 2158704.981460, -736133.500297]\n",
    "y = [1621194.950833, -329249.148704, -1299650.368502, -1124088.890017, -766824.476681, -505840.940327, -1270088.123800, -1970165.590919, -2109988.900373, -1020436.845258, 313287.294861, -2072759.504125, 1580566.125097, 1058972.421230]\n",
    "\n",
    "print(min(x), max(x))\n",
    "print(min(y), max(y))"
   ]
  },
  {
   "cell_type": "code",
   "execution_count": 21,
   "metadata": {},
   "outputs": [],
   "source": [
    "def create_grid_from_extents(extents,posting,epsg):\n",
    "\n",
    "    # TODO get extents of Antarctica from bedmachine in epsg:3031\n",
    "    # temporary: points are a collection of random boundary points of Antarctica in the epsg:3031 projection \n",
    "    x = [-2525725.161631, -1969164.736031, -529013.605469, -314793.229530, -85039.233025, -195124.382447, 212361.833364, 323206.286926, 1203859.622106, 2442332.087405, 2477479.184929, 465453.711660, 2158704.981460, -736133.500297]\n",
    "    y = [1621194.950833, -329249.148704, -1299650.368502, -1124088.890017, -766824.476681, -505840.940327, -1270088.123800, -1970165.590919, -2109988.900373, -1020436.845258, 313287.294861, -2072759.504125, 1580566.125097, 1058972.421230]\n",
    "    \n",
    "    minBedMachineX = min(x)\n",
    "    maxBedMachineX = max(x)\n",
    "    minBedMachineY = min(y)\n",
    "    maxBedMachineY = max(y)\n",
    "\n",
    "    x = np.arange(minBedMachineX, maxBedMachineX, posting)\n",
    "    y = np.arange(minBedMachineY, maxBedMachineY, posting)\n",
    "\n",
    "    x = x[x >= extents[0]]\n",
    "    x = x[x <= extents[2]]\n",
    "\n",
    "    y = y[y >= extents[1]]\n",
    "    y = y[y <= extents[3]]\n",
    "    \n",
    "    return(x,y)\n",
    "\n",
    "\n",
    "def create_velocity_grids_from_extents(GD_object):\n",
    "    velocity_grid_x, velocity_grid_y = \\\n",
    "        create_grid_from_extents(GD_object.extents, GD_object.velocity_grid_posting, GD_object.velocity_grid_epsg)\n",
    "\n",
    "    GD_object.velocity_grid_x = velocity_grid_x\n",
    "    GD_object.velocity_grid_y = velocity_grid_y\n",
    "\n",
    "def create_elevation_grids_from_extents(GD_object):\n",
    "    elevation_grid_x, elevation_grid_y = \\\n",
    "        create_grid_from_extents(GD_object.extents, GD_object.elevation_grid_posting, GD_object.elevation_grid_epsg)\n",
    "\n",
    "    GD_object.elevation_grid_y = elevation_grid_y\n",
    "    GD_object.elevation_grid_x = elevation_grid_x"
   ]
  },
  {
   "cell_type": "code",
   "execution_count": 22,
   "metadata": {},
   "outputs": [],
   "source": [
    "create_velocity_grids_from_extents(IC)"
   ]
  },
  {
   "cell_type": "code",
   "execution_count": 23,
   "metadata": {},
   "outputs": [],
   "source": [
    "def get_arrs(IC, file):\n",
    "\n",
    "    ds = nc4.Dataset(os.path.join(IC.download_path, file), 'r')\n",
    "\n",
    "    vx = ds.variables['VX'][:]\n",
    "    vy = ds.variables['VY'][:]\n",
    "    ex = ds.variables['ERRX'][:]\n",
    "    ey = ds.variables['ERRY'][:]\n",
    "    x = ds.variables['x'][:]\n",
    "    y = ds.variables['y'][:]\n",
    "\n",
    "    # TODO: Should array be initialized to the nan value -99999\n",
    "    vx_array = np.zeros((len(IC.velocity_grid_y), len(IC.velocity_grid_x)))\n",
    "    vy_array = np.zeros((len(IC.velocity_grid_y), len(IC.velocity_grid_x)))\n",
    "    vv_array = np.zeros((len(IC.velocity_grid_y), len(IC.velocity_grid_x)))\n",
    "    errx_array = np.zeros((len(IC.velocity_grid_y), len(IC.velocity_grid_x)))\n",
    "    erry_array = np.zeros((len(IC.velocity_grid_y), len(IC.velocity_grid_x)))\n",
    "\n",
    "    for j in range(len(IC.velocity_grid_y)):\n",
    "        y_index = np.argmin(np.abs(y - IC.velocity_grid_y[j]))\n",
    "        for i in range(len(IC.velocity_grid_x)):\n",
    "            x_index = np.argmin(np.abs(x - IC.velocity_grid_x[i]))\n",
    "            vx_array[j, i] = vx[y_index, x_index]\n",
    "            vy_array[j, i] = vy[y_index, x_index]\n",
    "            vv_array[j, i] = np.sqrt(vx_array[j, i]**2 + vy_array[j, i]**2)\n",
    "            errx_array[j, i] = ex[y_index, x_index]\n",
    "            erry_array[j, i] = ey[y_index, x_index]\n",
    "    \n",
    "    ds.close()\n",
    "    return vx_array, vy_array, vv_array, errx_array, erry_array"
   ]
  },
  {
   "cell_type": "code",
   "execution_count": 24,
   "metadata": {},
   "outputs": [
    {
     "name": "stdout",
     "output_type": "stream",
     "text": [
      "Antarctica_ice_velocity_2000_2001_1km_v01\n",
      "2000 2001\n"
     ]
    },
    {
     "name": "stderr",
     "output_type": "stream",
     "text": [
      "/var/folders/5j/sp7zw9k97sdfqkf7m2vn2m4h0000gn/T/ipykernel_10700/1857528055.py:25: UserWarning: Warning: converting a masked element to nan.\n",
      "  errx_array[j, i] = ex[y_index, x_index]\n",
      "/var/folders/5j/sp7zw9k97sdfqkf7m2vn2m4h0000gn/T/ipykernel_10700/1857528055.py:26: UserWarning: Warning: converting a masked element to nan.\n",
      "  erry_array[j, i] = ey[y_index, x_index]\n"
     ]
    },
    {
     "name": "stdout",
     "output_type": "stream",
     "text": [
      "Antarctica_ice_velocity_2005_2006_1km_v01\n",
      "2005 2006\n",
      "Antarctica_ice_velocity_2006_2007_1km_v01\n",
      "2006 2007\n",
      "Antarctica_ice_velocity_2007_2008_1km_v01\n",
      "2007 2008\n",
      "Antarctica_ice_velocity_2008_2009_1km_v01\n",
      "2008 2009\n",
      "Antarctica_ice_velocity_2009_2010_1km_v01\n",
      "2009 2010\n",
      "Antarctica_ice_velocity_2010_2011_1km_v01\n",
      "2010 2011\n",
      "Antarctica_ice_velocity_2011_2012_1km_v01\n",
      "2011 2012\n",
      "Antarctica_ice_velocity_2012_2013_1km_v01\n",
      "2012 2013\n",
      "Antarctica_ice_velocity_2013_2014_1km_v01\n",
      "2013 2014\n",
      "Antarctica_ice_velocity_2014_2015_1km_v01\n",
      "2014 2015\n",
      "Antarctica_ice_velocity_2015_2016_1km_v01\n",
      "2015 2016\n",
      "Antarctica_ice_velocity_2016_2017_1km_v01\n",
      "2016 2017\n"
     ]
    },
    {
     "name": "stderr",
     "output_type": "stream",
     "text": [
      "/var/folders/5j/sp7zw9k97sdfqkf7m2vn2m4h0000gn/T/ipykernel_10700/1857528055.py:22: UserWarning: Warning: converting a masked element to nan.\n",
      "  vx_array[j, i] = vx[y_index, x_index]\n",
      "/var/folders/5j/sp7zw9k97sdfqkf7m2vn2m4h0000gn/T/ipykernel_10700/1857528055.py:23: UserWarning: Warning: converting a masked element to nan.\n",
      "  vy_array[j, i] = vy[y_index, x_index]\n"
     ]
    },
    {
     "name": "stdout",
     "output_type": "stream",
     "text": [
      "Antarctica_ice_velocity_2017_2018_1km_v01\n",
      "2017 2018\n",
      "Antarctica_ice_velocity_2018_2019_1km_v01\n",
      "2018 2019\n",
      "Antarctica_ice_velocity_2019_2020_1km_v01\n",
      "2019 2020\n"
     ]
    }
   ],
   "source": [
    "vx_grids = []\n",
    "vy_grids = []\n",
    "errx_grids = []\n",
    "erry_grids = []\n",
    "vv_grids = []\n",
    "dates_start = []\n",
    "dates_end = []\n",
    "file_names = []\n",
    "\n",
    "for file in files:\n",
    "    file_name = file.split('.')[0]\n",
    "    file_names.append(file_name)\n",
    "    print(file_name)\n",
    "\n",
    "    start = file_name.split('_')[3]\n",
    "    end = file_name.split('_')[4]\n",
    "    dates_start.append(start)\n",
    "    dates_end.append(end)\n",
    "    print(start, end)\n",
    "\n",
    "    vx_array, vy_array, vv_array, errx_array, erry_array = get_arrs(IC, file)\n",
    "    vx_grids.append(vx_array)\n",
    "    vy_grids.append(vy_array)\n",
    "    errx_grids.append(errx_array)\n",
    "    erry_grids.append(erry_array)\n",
    "    vv_grids.append(vv_array)\n"
   ]
  },
  {
   "cell_type": "code",
   "execution_count": 25,
   "metadata": {},
   "outputs": [],
   "source": [
    "def output_data_stack(GD_object, vx_grids, vy_grids, vv_grids, errx_grids, erry_grids, dates_start, dates_end):\n",
    "\n",
    "    if not os.path.exists(os.path.join(IC.download_path, 'output_files')):\n",
    "        os.makedirs(os.path.join(IC.download_path, 'output_files'))\n",
    "        \n",
    "    output_file = os.path.join(IC.download_path, 'output_files', IC.short_name + \"_\" + IC.glacier_name + \"_stack.nc\")\n",
    "\n",
    "    data = nc4.Dataset(output_file, \"w\", format=\"NETCDF4\")\n",
    "\n",
    "    data.createDimension('y',len(GD_object.velocity_grid_y))\n",
    "    data.createDimension('x',len(GD_object.velocity_grid_x))\n",
    "    xvar = data.createVariable('x','f4',(\"x\",))\n",
    "    yvar = data.createVariable('y','f4',(\"y\",))\n",
    "\n",
    "    xvar[:]=GD_object.velocity_grid_x\n",
    "    yvar[:]=GD_object.velocity_grid_y\n",
    "\n",
    "    for dd in range(len(dates_start)):\n",
    "        grp = data.createGroup(dates_start[dd] + '-' + dates_end[dd])\n",
    "        vx = grp.createVariable('VX','f4',(\"y\",\"x\"))\n",
    "        vy = grp.createVariable('VY','f4',(\"y\",\"x\"))\n",
    "        vv = grp.createVariable('VV','f4',(\"y\",\"x\"))\n",
    "\n",
    "        errx = grp.createVariable('ERRX','f4',(\"y\",\"x\"))\n",
    "        erry = grp.createVariable('ERRY','f4',(\"y\",\"x\"))\n",
    "\n",
    "        vx[:,:] = vx_grids[dd]\n",
    "        vy[:,:] = vy_grids[dd]\n",
    "        vv[:,:] = vv_grids[dd]\n",
    "\n",
    "        errx[:,:] = errx_grids[dd]\n",
    "        erry[:,:] = erry_grids[dd]\n",
    "\n",
    "    data.close()\n",
    "\n",
    "    message = '        Saved file to ' + output_file\n",
    "    GD_object.output_summary += '\\n' + message\n",
    "    print(message)\n",
    "    "
   ]
  },
  {
   "cell_type": "code",
   "execution_count": 26,
   "metadata": {},
   "outputs": [
    {
     "name": "stdout",
     "output_type": "stream",
     "text": [
      "        Saved file to /Volumes/Seagate/CHANGES/data_repository/tutorial/Antarctic/Velocity/MEaSUREs Antarctic Annual Velocity/Data/output_files/MEaSUREs Antarctic Annual Velocity_Antarctica_stack.nc\n"
     ]
    }
   ],
   "source": [
    "output_data_stack(IC, vx_grids, vy_grids, vv_grids, errx_grids, erry_grids, dates_start, dates_end)"
   ]
  },
  {
   "cell_type": "code",
   "execution_count": null,
   "metadata": {},
   "outputs": [],
   "source": []
  }
 ],
 "metadata": {
  "kernelspec": {
   "display_name": "changes",
   "language": "python",
   "name": "python3"
  },
  "language_info": {
   "codemirror_mode": {
    "name": "ipython",
    "version": 3
   },
   "file_extension": ".py",
   "mimetype": "text/x-python",
   "name": "python",
   "nbconvert_exporter": "python",
   "pygments_lexer": "ipython3",
   "version": "3.11.3"
  },
  "orig_nbformat": 4
 },
 "nbformat": 4,
 "nbformat_minor": 2
}
