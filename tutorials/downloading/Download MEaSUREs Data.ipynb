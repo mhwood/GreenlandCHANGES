{
 "cells": [
  {
   "attachments": {},
   "cell_type": "markdown",
   "metadata": {},
   "source": [
    "# Download MEaSUREs Data\n",
    "\n",
    "## Example: Annual Antarctic Ice Velocity Maps, Version 1 (NSIDC-0720)\n",
    "\n",
    "\n",
    "NSICD MEaSUREs Annual Antarctic Ice Velocity Maps, Version 1 (NSIDC-0720):\n",
    "\n",
    "https://nsidc.org/data/nsidc-0720/versions/1  <br><br>\n",
    "\n",
    "\n",
    "\n",
    "NASA EarthData Data Access (echo_collection_id=C2245171699-NSIDC_ECS):\n",
    "\n",
    "https://search.earthdata.nasa.gov/search/granules/collection-details?p=C2245171699-NSIDC_ECS&pg[0][v]=f&pg[0][gsk]=-start_date&q=NSIDC-0720%20V001 "
   ]
  },
  {
   "cell_type": "code",
   "execution_count": 10,
   "metadata": {},
   "outputs": [],
   "source": [
    "import requests\n",
    "import os\n",
    "import IcesheetCHANGES as changes"
   ]
  },
  {
   "attachments": {},
   "cell_type": "markdown",
   "metadata": {},
   "source": [
    "## Set options"
   ]
  },
  {
   "attachments": {},
   "cell_type": "markdown",
   "metadata": {},
   "source": [
    "### Define Directories\n",
    "\n",
    "First, define two directories on your local drive as follows:\n",
    "\n",
    "| directory | purpose | \n",
    "|-----------|---------|\n",
    "|`project_folder` | This is the path where output data from the changes module will be stored - the data to be used directly for analysis. | \n",
    "|`data_folder` | This is the path where ice velocity and elevation data, from their respective sources, will be stored. The data_folder option was created to facilitate data storage on external drives. |"
   ]
  },
  {
   "cell_type": "code",
   "execution_count": 2,
   "metadata": {},
   "outputs": [],
   "source": [
    "project_folder = '/Users/tara/Documents/SJSU/MLML/Projects/CHANGES/Examples'\n",
    "data_folder='/Volumes/Seagate/CHANGES/data_repository/tutorial'"
   ]
  },
  {
   "attachments": {},
   "cell_type": "markdown",
   "metadata": {},
   "source": [
    "## Set Collection ID\n",
    "Next, set collections key for desired data set from NASA EarthData and set the region name.\n",
    "For the collection ID, set collections_key using the dictionary under Data Collection ID Dictionary, or use the following instructions to add a new collection to the dictionary. "
   ]
  },
  {
   "attachments": {},
   "cell_type": "markdown",
   "metadata": {},
   "source": [
    "### Add new collection \n",
    "\n",
    "Example: Getting a collection ID from EarthData Search: \n",
    "[MEaSUREs Annual Antarctic Ice Velocity Maps V001](https://search.earthdata.nasa.gov/search/granules/collection-details?p=C2245171699-NSIDC_ECS&pg[0][v]=f&pg[0][gsk]=-start_date&q=NSIDC-0720%20V001&tl=1686700071.247!3!!)\n",
    "\n",
    "While viewing the collection on EarthData, as in the above link, follow \"View More Info\" to visit the CMR page for the collection.\n",
    "Then, look for the collections ID in the URL or as a tag below the title. \n",
    "\n",
    "![Locating Collection ID from CMR page](getting_collectionID.png)\n"
   ]
  },
  {
   "attachments": {},
   "cell_type": "markdown",
   "metadata": {},
   "source": [
    "### Data Collection ID Dictionary\n",
    "\n",
    "\n",
    "\n",
    "#### MEaSUREs Annual Antarctic Ice Velocity Maps V001\n",
    "Short Name/Collection Key: Antarctic Annual Velocity\n",
    "\n",
    "Collection ID: C2245171699-NSIDC_ECS\n",
    "\n",
    "Sources:\n",
    "\n",
    "https://nsidc.org/data/nsidc-0720/versions/1\n",
    "\n",
    "https://search.earthdata.nasa.gov/search?q=NSIDC-0720%20V001\n",
    "\n",
    "\n",
    "\n",
    "#### MEaSUREs Greenland Quarterly Ice Sheet Velocity Mosaics from SAR and Landsat V005\n",
    "Short Name/Collection Key: Greenland Quarterly Velocity\n",
    "\n",
    "Collection ID: C2627036252-NSIDC_ECS\n",
    "\n",
    "Sources:\n",
    "\n",
    "https://nsidc.org/data/nsidc-0727/versions/5\n",
    "\n",
    "https://search.earthdata.nasa.gov/search?q=NSIDC-0727%20V005\n",
    " \n",
    "\n",
    "\n",
    "#### MEaSUREs Greenland Monthly Ice Sheet Velocity Mosaics from SAR and Landsat, Version 5\n",
    "Short Name/Collection Key: Greenland Monthly Velocity\n",
    "\n",
    "Collection ID: C2627046644-NSIDC_ECS\n",
    "\n",
    "Sources:\n",
    "\n",
    "https://nsidc.org/data/nsidc-0731/versions/1\n",
    "\n",
    "https://search.earthdata.nasa.gov/search?q=NSIDC-0731%20V005"
   ]
  },
  {
   "cell_type": "code",
   "execution_count": 11,
   "metadata": {},
   "outputs": [],
   "source": [
    "def collection_id(collection_key):\n",
    "    aaivm  = 'C2245171699-NSIDC_ECS' # MEaSUREs Annual Antarctic Ice Velocity Maps V001\n",
    "    gqisvm = 'C2627036252-NSIDC_ECS' # MEaSUREs Greenland Quarterly Ice Sheet Velocity Mosaics from SAR and Landsat V005\n",
    "    gmisvm = 'C2627046644-NSIDC_ECS' # MEaSUREs Greenland Monthly Ice Sheet Velocity Mosaics from SAR and Landsat, Version 5\n",
    "    # each collection has a long name and a short name\n",
    "    collections = {'MEaSUREs Annual Antarctic Ice Velocity Maps V001': aaivm, \n",
    "                'Antarctic Annual Velocity': aaivm,\n",
    "                'MEaSUREs Greenland Quarterly Ice Sheet Velocity Mosaics from SAR and Landsat V005': gqisvm,\n",
    "                'Greenland Quarterly Velocity': gqisvm,\n",
    "                'MEaSUREs Greenland Monthly Ice Sheet Velocity Mosaics from SAR and Landsat, Version 5': gmisvm,\n",
    "                'Greenland Monthly Velocity': gmisvm}\n",
    "    if collection_key not in collections:\n",
    "        raise ValueError('Collection key not recognized')\n",
    "    return collections[collection_key]"
   ]
  },
  {
   "attachments": {},
   "cell_type": "markdown",
   "metadata": {},
   "source": [
    "# Get MEaSUREs Annual Antarctic Ice Velocity Maps, Version 1 (NSIDC-0720)\n",
    "\n",
    "Short Name: Antarctic Annual Velocity\n",
    "\n",
    "Collection ID: C2245171699-NSIDC_ECS"
   ]
  },
  {
   "cell_type": "code",
   "execution_count": 4,
   "metadata": {},
   "outputs": [
    {
     "name": "stdout",
     "output_type": "stream",
     "text": [
      "Collection ID:  C2245171699-NSIDC_ECS\n"
     ]
    }
   ],
   "source": [
    "# Set collection_kay and region_name\n",
    "collection_key = 'Antarctic Annual Velocity'\n",
    "region_name = 'Antarctic'\n",
    "\n",
    "collection = collection_id(collection_key)\n",
    "print('Collection ID: ', collection)"
   ]
  },
  {
   "attachments": {},
   "cell_type": "markdown",
   "metadata": {},
   "source": [
    "## Initialize the AntarcticCHANGES object\n",
    "This object will contain all pertinent information to initialize the data grids in your region of interest."
   ]
  },
  {
   "cell_type": "code",
   "execution_count": 5,
   "metadata": {},
   "outputs": [],
   "source": [
    "AC = changes.AntarcticCHANGES(project_folder, data_folder, collection_key, collection, region_name)"
   ]
  },
  {
   "attachments": {},
   "cell_type": "markdown",
   "metadata": {},
   "source": [
    "## Obtain list of available files for download"
   ]
  },
  {
   "cell_type": "code",
   "execution_count": 6,
   "metadata": {},
   "outputs": [
    {
     "name": "stdout",
     "output_type": "stream",
     "text": [
      "Successfully obtained 32 URLs.\n"
     ]
    }
   ],
   "source": [
    "# Build and call the CMR API URL, filter the results, and write the availble files to a csv \n",
    "availible_file_names, availible_file_links  = changes.cmr_api_url(AC)\n",
    "\n",
    "# Get a list of availible files not yet on disk. \n",
    "dl_list_names, dl_list_links = changes.obtain_download_list(AC, availible_file_names, availible_file_links)"
   ]
  },
  {
   "attachments": {},
   "cell_type": "markdown",
   "metadata": {},
   "source": [
    "## Download the data"
   ]
  },
  {
   "cell_type": "code",
   "execution_count": 7,
   "metadata": {},
   "outputs": [
    {
     "name": "stdout",
     "output_type": "stream",
     "text": [
      "Downloading 1 file(s)...\n",
      "Downloading 1/1: Antarctica_ice_velocity_2016_2017_1km_v01.nc\r"
     ]
    }
   ],
   "source": [
    "changes.run_download_nc_direct(AC, dl_list_names, dl_list_links)"
   ]
  },
  {
   "attachments": {},
   "cell_type": "markdown",
   "metadata": {},
   "source": [
    "### MEaSUREs Greenland Quarterly Ice Sheet Velocity Mosaics from SAR and Landsat V005\n",
    "Short Name: Greenland Quarterly Velocity\n",
    "\n",
    "Collection ID: C2627036252-NSIDC_ECS\n",
    "\n",
    "Sources:\n",
    "\n",
    "https://nsidc.org/data/nsidc-0727/versions/5\n",
    "\n",
    "https://search.earthdata.nasa.gov/search?q=NSIDC-0727%20V005\n",
    " \n",
    "\n",
    "\n",
    "#### MEaSUREs Greenland Monthly Ice Sheet Velocity Mosaics from SAR and Landsat, Version 5\n",
    "Short Name: Greenland Monthly Velocity\n",
    "\n",
    "Collection ID: C2627046644-NSIDC_ECS\n",
    "\n",
    "Sources:\n",
    "\n",
    "https://nsidc.org/data/nsidc-0731/versions/1\n",
    "\n",
    "https://search.earthdata.nasa.gov/search?q=NSIDC-0731%20V005"
   ]
  },
  {
   "attachments": {},
   "cell_type": "markdown",
   "metadata": {},
   "source": [
    "# Get MEaSUREs Greenland Quarterly Ice Sheet Velocity Mosaics from SAR and Landsat V005\n",
    "Short Name/Collection Key: Greenland Quarterly Velocity\n",
    "\n",
    "Collection ID: C2627036252-NSIDC_ECS"
   ]
  },
  {
   "cell_type": "code",
   "execution_count": 14,
   "metadata": {},
   "outputs": [
    {
     "name": "stdout",
     "output_type": "stream",
     "text": [
      "Collection ID:  C2627036252-NSIDC_ECS\n"
     ]
    },
    {
     "name": "stdout",
     "output_type": "stream",
     "text": [
      "Successfully obtained 640 URLs.\n",
      "Downloading 0 file(s)...\n"
     ]
    }
   ],
   "source": [
    "# Set collection_kay and region_name\n",
    "collection_key = 'Greenland Quarterly Velocity'\n",
    "region_name = 'Greenland'\n",
    "\n",
    "collection = collection_id(collection_key)\n",
    "print('Collection ID: ', collection)\n",
    "\n",
    "# Initialize the Object\n",
    "AC = changes.GreenlandCHANGES(project_folder, data_folder, collection_key, collection, region_name)\n",
    "\n",
    "# Obtain the availible file names and links from the CMR API \n",
    "availible_file_names, availible_file_links  = changes.cmr_api_url(AC)\n",
    "\n",
    "# Get a list of availible files not yet on disk. \n",
    "dl_list_names, dl_list_links = changes.obtain_download_list(AC, availible_file_names, availible_file_links)\n",
    "\n",
    "# Download the data\n",
    "#changes.run_download_nc_direct(AC, dl_list_names, dl_list_links)\n",
    "\n"
   ]
  },
  {
   "cell_type": "code",
   "execution_count": null,
   "metadata": {},
   "outputs": [],
   "source": []
  }
 ],
 "metadata": {
  "kernelspec": {
   "display_name": "changes",
   "language": "python",
   "name": "python3"
  },
  "language_info": {
   "codemirror_mode": {
    "name": "ipython",
    "version": 3
   },
   "file_extension": ".py",
   "mimetype": "text/x-python",
   "name": "python",
   "nbconvert_exporter": "python",
   "pygments_lexer": "ipython3",
   "version": "3.11.3"
  },
  "orig_nbformat": 4
 },
 "nbformat": 4,
 "nbformat_minor": 2
}
