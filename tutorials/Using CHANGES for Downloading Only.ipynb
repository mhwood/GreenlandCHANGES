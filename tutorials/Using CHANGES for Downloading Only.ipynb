{
 "cells": [
  {
   "cell_type": "markdown",
   "metadata": {},
   "source": [
    "# Using CHANGES for Downloading Only"
   ]
  },
  {
   "cell_type": "markdown",
   "metadata": {},
   "source": [
    "In this tutorial, we will see how to use the GreenlandCHANGES package to download data without any additional processing to homogenize the data."
   ]
  },
  {
   "cell_type": "markdown",
   "metadata": {},
   "source": [
    "Before we begin, be sure to add the package to your path:"
   ]
  },
  {
   "cell_type": "code",
   "execution_count": 1,
   "metadata": {
    "collapsed": true
   },
   "outputs": [],
   "source": [
    "import sys\n",
    "sys.path.insert(0, \"/Users/mhwood/Documents/Research/Scripts/CHANGES/GreenlandCHANGES\")"
   ]
  },
  {
   "cell_type": "markdown",
   "metadata": {},
   "source": [
    "First, initiatize the module by identifying the project and data directories and initializing the `GreenlandCHANGES` class. More information on these directories can be found in the [Initializing CHANGES](https://github.com/mhwood/GreenlandCHANGES/blob/master/tutorials/Initializing%20CHANGES.ipynb) tutorial notebook."
   ]
  },
  {
   "cell_type": "code",
   "execution_count": 10,
   "metadata": {
    "collapsed": true
   },
   "outputs": [],
   "source": [
    "project_folder = '/Users/mhwood/Documents/Research/Projects/CHANGES/Examples/'\n",
    "data_folder='/Volumes/mhwood/Research/Data Repository/Test'\n",
    "\n",
    "import changes.initiation.GreenlandCHANGES as gc\n",
    "GC = gc.GreenlandCHANGES(project_folder,data_folder)"
   ]
  },
  {
   "cell_type": "markdown",
   "metadata": {},
   "source": [
    "In this tutorial, we will see how to download all available data from ArcticDEM in the region of Illullisat fjord. To initiate the search, we will define the region name and the extents of our regions of interest:"
   ]
  },
  {
   "cell_type": "code",
   "execution_count": 11,
   "metadata": {
    "collapsed": true
   },
   "outputs": [],
   "source": [
    "GC.region_name = 'Jakobshavn Fjord'\n",
    "min_x = -244217\n",
    "min_y = -2280780\n",
    "max_x = -185240\n",
    "max_y = -2261328\n",
    "GC.extents = [min_x, min_y, max_x, max_y]"
   ]
  },
  {
   "cell_type": "markdown",
   "metadata": {},
   "source": [
    "Next, we will make sure that only the ArcticDEM source is activated:"
   ]
  },
  {
   "cell_type": "code",
   "execution_count": 12,
   "metadata": {
    "collapsed": true
   },
   "outputs": [],
   "source": [
    "GC.deactivate_all_sources()\n",
    "GC.compile_elevation = True\n",
    "GC.compile_arcticDEM_data = True"
   ]
  },
  {
   "cell_type": "markdown",
   "metadata": {},
   "source": [
    "We can see the parameters of the routine for ArcticDEM data using the following command:"
   ]
  },
  {
   "cell_type": "code",
   "execution_count": 13,
   "metadata": {
    "collapsed": false
   },
   "outputs": [
    {
     "name": "stdout",
     "output_type": "stream",
     "text": [
      "ArcticDEM Parameters:\n",
      "    compile_arcticDEM_data:  True\n",
      "    download_new_arcticDEM_data:  True\n",
      "    keep_high_resolution_arcticDEM_data:  False\n",
      "    resample_high_resolution_arcticDEM_data:  True\n",
      "    max_number_of_arcticDEM_files:  all\n"
     ]
    }
   ],
   "source": [
    "GC.print_arcticDEM_parameters()"
   ]
  },
  {
   "cell_type": "markdown",
   "metadata": {},
   "source": [
    "Here, we see that new data will be downloaded, but the high resolution data will be deleted because it is resampled. To keep the original data and skip the resampling, we can adjust these parameters. For the purposes of this tutorial, we will also set the maximum number of files to download to 3, for illustration purposes."
   ]
  },
  {
   "cell_type": "code",
   "execution_count": 14,
   "metadata": {
    "collapsed": true
   },
   "outputs": [],
   "source": [
    "GC.keep_high_resolution_arcticDEM_data = True\n",
    "GC.resample_high_resolution_arcticDEM_data = False\n",
    "GC.max_number_of_arcticDEM_files = 3"
   ]
  },
  {
   "cell_type": "markdown",
   "metadata": {},
   "source": [
    "Finally, CHANGES is set up by default to homogenize data into stacks. To turn this option off, we set the stacking parameter to False:"
   ]
  },
  {
   "cell_type": "code",
   "execution_count": 15,
   "metadata": {
    "collapsed": true
   },
   "outputs": [],
   "source": [
    "GC.create_elevation_stacks = False"
   ]
  },
  {
   "cell_type": "markdown",
   "metadata": {},
   "source": [
    "With all of the parameters adjusted, we can now execute the main routine to download our data:"
   ]
  },
  {
   "cell_type": "code",
   "execution_count": 17,
   "metadata": {
    "collapsed": false
   },
   "outputs": [
    {
     "name": "stdout",
     "output_type": "stream",
     "text": [
      "Creating elevation compilation for Jakobshavn Fjord\n",
      "    Running compilation for the ArcticDEM (Worldview) data\n",
      "        Finding a list of ArcticDEM files which overlap the domain\n",
      "            Downloading the ArcticDEM metadata shapefile\n",
      "            Searching through shapefile provided by PGC to find overlapping files\n",
      "                (This may take a minute or two)\n",
      "            Found 243 files\n",
      "        Downloading files and down-sampling (if not already available)\n",
      "            Checking file SETSM_GE01_20150819_10500100013C9100_10500100013C9200_seg1_2m_v3.0 (n69w051, 1 of 3)\n",
      "              Downloading file...\n",
      "            Checking file SETSM_GE01_20150816_105001000136E700_105001000136E800_seg1_2m_v3.0 (n69w051, 2 of 3)\n",
      "              Downloading file...\n",
      "            Checking file SETSM_GE01_20150731_105001000115D300_105001000115D400_seg1_2m_v3.0 (n69w050, 3 of 3)\n",
      "              Downloading file...\n"
     ]
    }
   ],
   "source": [
    "GC.execute_velocity_and_elevation_compilations()"
   ]
  },
  {
   "cell_type": "markdown",
   "metadata": {},
   "source": [
    "## Assessing the Outputs"
   ]
  },
  {
   "cell_type": "markdown",
   "metadata": {},
   "source": [
    "After the code execution is complete, we can take a look at the output parameters. \n",
    "\n",
    "In the `project_folder`, we now have a directory for `Jakobshavn Fjord` which contains a subdirectory for `Elevation` and further subdirectories for `Metadata` and `Data`. There is not data in the `Data` folder, because we skipped the homogenization portion of the changes routine. But in `Metadata`, we have a complete list of files which overlap the fjord, stored as a csv file.\n",
    "\n",
    "In the `data_folder`, we now have a directory for `Elevation > ArcticDEM`. This directory has 3 subdirectories - one for the `2m_tiles`, one for `Metadata`, and one for `Regridded_50m_tiles`. The `2m_tiles` directory has the 3 files which were downloaded during the routine above. The `Metadata` directory has a shapefile which defines the extent of all ArcticDEM scenes. The `Regridded_50m_tiles` directory is empty because the resampling of high resoluion data was skipped in this example."
   ]
  },
  {
   "cell_type": "code",
   "execution_count": null,
   "metadata": {
    "collapsed": true
   },
   "outputs": [],
   "source": []
  }
 ],
 "metadata": {
  "kernelspec": {
   "display_name": "greenlandchanges",
   "language": "python",
   "name": "greenlandchanges"
  },
  "language_info": {
   "codemirror_mode": {
    "name": "ipython",
    "version": 3
   },
   "file_extension": ".py",
   "mimetype": "text/x-python",
   "name": "python",
   "nbconvert_exporter": "python",
   "pygments_lexer": "ipython3",
   "version": "3.8.5"
  }
 },
 "nbformat": 4,
 "nbformat_minor": 1
}
