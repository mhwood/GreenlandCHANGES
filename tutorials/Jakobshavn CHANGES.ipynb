{
 "cells": [
  {
   "cell_type": "markdown",
   "metadata": {},
   "source": [
    "# Jakobshavn CHANGES"
   ]
  },
  {
   "cell_type": "markdown",
   "metadata": {},
   "source": [
    "The goals of this tutorial are:\n",
    "1. create an elevation compilation for Jakobshavn Isbrae\n",
    "2. create an ice speed compilation for Jakobshavn Isbrae\n",
    "3. plot Jakobshavn's elevation and speed\n"
   ]
  },
  {
   "cell_type": "markdown",
   "metadata": {},
   "source": [
    "## Initializing the GreenlandCHANGES class"
   ]
  },
  {
   "cell_type": "markdown",
   "metadata": {},
   "source": [
    "To initialize the module from any directory, first add the package to your path:"
   ]
  },
  {
   "cell_type": "code",
   "execution_count": 1,
   "metadata": {},
   "outputs": [],
   "source": [
    "import sys\n",
    "# sys.path.insert(0, \"[your path here]\")\n",
    "sys.path.insert(0, \"/Applications/anaconda3/envs/changes/lib/python3.8/site-packages/GreenlandCHANGES\")"
   ]
  },
  {
   "cell_type": "markdown",
   "metadata": {},
   "source": [
    "Next, define two directories on your local drive as follows:\n",
    "\n",
    "| directory | purpose | approximate file size |\n",
    "|-----------|---------|-----------------------|\n",
    "|`project_folder` | This is the path where output data from the changes module will be stored - the data to be used directly for analysis. | The file sizes for this path can be up to a few GB depending on the size and resolution of the sample domain, and the number of sources accessed. |\n",
    "|`data_folder` | This is the path where ice velocity and elevation data, from their respective sources, will be stored. The data_folder option was create facilitate data storage on external drives. | Depending on the data source and whether raw data is kept on disk, this can be several hundreds of GB. |"
   ]
  },
  {
   "cell_type": "code",
   "execution_count": 2,
   "metadata": {},
   "outputs": [],
   "source": [
    "project_folder = '/Users/michwood/Documents/Research/Projects/Greenland Dynamics/Tmp'\n",
    "data_folder='/Volumes/mhwood/Research/Data Repository/Greenland'"
   ]
  },
  {
   "cell_type": "markdown",
   "metadata": {},
   "source": [
    "Next, initialize the GlacierCHANGES object - this object will contain all pertinent information to initialize the data grids in your region of interest."
   ]
  },
  {
   "cell_type": "code",
   "execution_count": 3,
   "metadata": {},
   "outputs": [],
   "source": [
    "from GreenlandCHANGES import init_object\n",
    "GC = init_object.GreenlandCHANGES(project_folder,data_folder)"
   ]
  },
  {
   "cell_type": "markdown",
   "metadata": {
    "collapsed": true
   },
   "source": [
    "To view the initial attributes in the `GC` class, use the method `print_initiation_parameters`:"
   ]
  },
  {
   "cell_type": "code",
   "execution_count": 4,
   "metadata": {},
   "outputs": [
    {
     "name": "stdout",
     "output_type": "stream",
     "text": [
      "Region Parameters:\n",
      "    region_initiated:  False\n",
      "    region_name:  untitled_region\n",
      "    extents:  []\n",
      " \n",
      "Velocity Parameters:\n",
      "    compile_velocity:  True\n",
      "    velocity_grid_posting:  300\n",
      "    velocity_grid_epsg:  3413\n",
      "    create_velocity_stacks:  True\n",
      "    Velocity Sources:\n",
      "        compile_golive_data: True\n",
      "        compile_measures_insar_data: True\n",
      "        compile_measure_optical_data: True\n",
      "        compile_measures_quarterly_mosaic_data: True\n",
      "        compile_measures_multiyear_mosaic_data: True\n",
      " \n",
      "Elevation Parameters:\n",
      "    compile_elevation:  True\n",
      "    elevation_grid_posting:  50\n",
      "    elevation_grid_epsg:  3413\n",
      "    create_elevation_stacks:  True\n",
      "    overwrite_existing_elevation_stacks:  True\n",
      "    Elevation Sources:\n",
      "        compile_arcticDEM_data: True\n",
      "        compile_cryosat2_data: True\n",
      "        compile_gimp_data: True\n",
      "        compile_glistin_data: True\n",
      "        compile_icebridge_atm_data: True\n",
      "        compile_icebridge_lvis_data: True\n",
      "        compile_icesat_data: True\n",
      "        compile_icesat2_data: True\n",
      "        compile_kms_data: True\n",
      "        compile_preicebridge_atm_data True\n",
      "        compile_tandemx_data: True\n"
     ]
    }
   ],
   "source": [
    "GC.print_initiation_parameters()"
   ]
  },
  {
   "cell_type": "markdown",
   "metadata": {},
   "source": [
    "There are a few things to note for the initial parameters:\n",
    "1. The region has not yet been initiated\n",
    "2. The default parameters for velocity and elevation are all \"True\". In other words, the module, by default, will attempt to download ALL available velocity and elevation.\n",
    "In the next steps, we will adjust these modules to our needs\n",
    "\n",
    "**When all of the parameters have been set correctly, the module will be ready to run using the the `execute_velocity_and_elevation_compilations` method**"
   ]
  },
  {
   "cell_type": "markdown",
   "metadata": {},
   "source": [
    "## Defining the region of interest"
   ]
  },
  {
   "cell_type": "markdown",
   "metadata": {},
   "source": [
    "First, try to run the execute_velocity_and_elevation_compilations method without specifying the region and its extents:"
   ]
  },
  {
   "cell_type": "code",
   "execution_count": 5,
   "metadata": {},
   "outputs": [
    {
     "name": "stdout",
     "output_type": "stream",
     "text": [
      "!! Alert !!\n",
      "!! Please define a region name and valid extents before running the compilation !!\n",
      "   There are two options:\n",
      "   Option 1: Pre-defined glacier extent:\n",
      "      GC.set_extents_by_glacier([glacier name here])\n",
      "   Option 2: Custom region and extents:\n",
      "      GC.region_name = [your region here]\n",
      "      GC.extents = [min_x,min_y,max_x,max_y]\n"
     ]
    }
   ],
   "source": [
    "GC.execute_velocity_and_elevation_compilations()"
   ]
  },
  {
   "cell_type": "markdown",
   "metadata": {},
   "source": [
    "Here, we get an alert indicating that the region has not yet been defined - the module does not yet know where to look for available ice velocity and elevation data."
   ]
  },
  {
   "cell_type": "markdown",
   "metadata": {},
   "source": [
    "#### Defining the region and its extents"
   ]
  },
  {
   "cell_type": "markdown",
   "metadata": {},
   "source": [
    "For this example, we will use the area around the fast-flowing outlet of Jakobshavn Isbrae. In this case, the extents of the class are set by accessing and editing the `region_name` and `extents` attributes. Here, we also elect to output the grid at a 100m posting."
   ]
  },
  {
   "cell_type": "code",
   "execution_count": 6,
   "metadata": {},
   "outputs": [],
   "source": [
    "GC.region_name = 'Jakobshavn'\n",
    "min_x = -187000\n",
    "min_y = -2295000\n",
    "max_x = -142000\n",
    "max_y = -2265000\n",
    "GC.extents = [min_x, min_y, max_x, max_y] #note the order of the extents\n",
    "GC.elevation_grid_posting = 100\n",
    "GC.velocity_grid_posting = 100"
   ]
  },
  {
   "cell_type": "markdown",
   "metadata": {},
   "source": [
    "Note that the current version of this package only supports coordinates in polar stereographic coordinates.\n",
    "\n",
    "Using the `print_initiation_parameters` method again shows the changes to the class:"
   ]
  },
  {
   "cell_type": "code",
   "execution_count": 7,
   "metadata": {},
   "outputs": [
    {
     "name": "stdout",
     "output_type": "stream",
     "text": [
      "Region Parameters:\n",
      "    region_initiated:  True\n",
      "    region_name:  Jakobshavn\n",
      "    extents:  [-187000, -2295000, -142000, -2265000]\n",
      " \n",
      "Velocity Parameters:\n",
      "    compile_velocity:  True\n",
      "    velocity_grid_posting:  100\n",
      "    velocity_grid_epsg:  3413\n",
      "    create_velocity_stacks:  True\n",
      "    Velocity Sources:\n",
      "        compile_golive_data: True\n",
      "        compile_measures_insar_data: True\n",
      "        compile_measure_optical_data: True\n",
      "        compile_measures_quarterly_mosaic_data: True\n",
      "        compile_measures_multiyear_mosaic_data: True\n",
      " \n",
      "Elevation Parameters:\n",
      "    compile_elevation:  True\n",
      "    elevation_grid_posting:  100\n",
      "    elevation_grid_epsg:  3413\n",
      "    create_elevation_stacks:  True\n",
      "    overwrite_existing_elevation_stacks:  True\n",
      "    Elevation Sources:\n",
      "        compile_arcticDEM_data: True\n",
      "        compile_cryosat2_data: True\n",
      "        compile_gimp_data: True\n",
      "        compile_glistin_data: True\n",
      "        compile_icebridge_atm_data: True\n",
      "        compile_icebridge_lvis_data: True\n",
      "        compile_icesat_data: True\n",
      "        compile_icesat2_data: True\n",
      "        compile_kms_data: True\n",
      "        compile_preicebridge_atm_data True\n",
      "        compile_tandemx_data: True\n"
     ]
    }
   ],
   "source": [
    "GC.print_initiation_parameters()"
   ]
  },
  {
   "cell_type": "markdown",
   "metadata": {},
   "source": [
    "## Objective 1: A timeseries of elevation"
   ]
  },
  {
   "cell_type": "markdown",
   "metadata": {},
   "source": [
    "For this example, we will demonstrate how to use the `changes` module to obtain GLISTIN-A data from [PO.DAAC](https://podaac.jpl.nasa.gov)."
   ]
  },
  {
   "cell_type": "markdown",
   "metadata": {},
   "source": [
    "As we saw in the notes above, all velocity and elevation sources will be run by default. To run the routine for the GLISTIN data only, we turn off all other sources as follows:"
   ]
  },
  {
   "cell_type": "code",
   "execution_count": 8,
   "metadata": {},
   "outputs": [],
   "source": [
    "GC.deactivate_all_sources()\n",
    "GC.compile_elevation = True\n",
    "GC.compile_glistin_data = True"
   ]
  },
  {
   "cell_type": "markdown",
   "metadata": {},
   "source": [
    "We can check that the run parameters are stored as expected by calling the `print_initiation_parameters` method:"
   ]
  },
  {
   "cell_type": "code",
   "execution_count": 9,
   "metadata": {},
   "outputs": [
    {
     "name": "stdout",
     "output_type": "stream",
     "text": [
      "Region Parameters:\n",
      "    region_initiated:  True\n",
      "    region_name:  Jakobshavn\n",
      "    extents:  [-187000, -2295000, -142000, -2265000]\n",
      " \n",
      "Velocity Parameters:\n",
      "    compile_velocity:  False\n",
      " \n",
      "Elevation Parameters:\n",
      "    compile_elevation:  True\n",
      "    elevation_grid_posting:  100\n",
      "    elevation_grid_epsg:  3413\n",
      "    create_elevation_stacks:  True\n",
      "    overwrite_existing_elevation_stacks:  True\n",
      "    Elevation Sources:\n",
      "        compile_arcticDEM_data: False\n",
      "        compile_cryosat2_data: False\n",
      "        compile_gimp_data: False\n",
      "        compile_glistin_data: True\n",
      "        compile_icebridge_atm_data: False\n",
      "        compile_icebridge_lvis_data: False\n",
      "        compile_icesat_data: False\n",
      "        compile_icesat2_data: False\n",
      "        compile_kms_data: False\n",
      "        compile_preicebridge_atm_data False\n",
      "        compile_tandemx_data: False\n"
     ]
    }
   ],
   "source": [
    "GC.print_initiation_parameters()"
   ]
  },
  {
   "cell_type": "markdown",
   "metadata": {},
   "source": [
    "Each data source contains additional parameters, which can be viewed with the `print_[source]_parameters` commands:"
   ]
  },
  {
   "cell_type": "code",
   "execution_count": 10,
   "metadata": {},
   "outputs": [
    {
     "name": "stdout",
     "output_type": "stream",
     "text": [
      "GLISTIN-A Parameters:\n",
      "    compile_glistin_data:  True\n",
      "    download_new_glistin_data:  True\n",
      "    max_number_of_glistin_files:  all\n",
      "    podaac_username:  \n",
      "    podaac_password:  \n"
     ]
    }
   ],
   "source": [
    "GC.print_glistin_parameters()"
   ]
  },
  {
   "cell_type": "markdown",
   "metadata": {},
   "source": [
    "Here, we see a few more details:\n",
    "1. First, the routine will download new glistin data.\n",
    "2. The routine requires a username and password for PO.DAAC.\n",
    "\n",
    "If you try to run the routine without entering your credentials, you will run into an issue:"
   ]
  },
  {
   "cell_type": "code",
   "execution_count": 11,
   "metadata": {},
   "outputs": [
    {
     "name": "stdout",
     "output_type": "stream",
     "text": [
      "Creating elevation compilation for Jakobshavn\n",
      "    Running compilation for the GLISTIN data\n",
      "        Finding a list of GLISTIN files which overlap the domain\n",
      "        Found 12 files\n",
      "        Downloading the GLISTIN files from PO.DAAC\n",
      "Please identify your PO.DAAC username and password with the following commands in the init_object.py file:\n",
      "    GC.podaac_username = *********\n",
      "    GC.podaac_password = *********\n",
      "    Note: these credentials are NOT the same as your EARTHDATA credentials.\n",
      "    To find your username and password, login to EARTHDATA at https://urs.earthdata.nasa.gov/\n",
      "    using your EARTHDATA credentials. Then, navigate to https://podaac-tools.jpl.nasa.gov/drive/\n",
      "    to find your PODAAC credentials.\n"
     ]
    }
   ],
   "source": [
    "GC.execute_velocity_and_elevation_compilations()"
   ]
  },
  {
   "cell_type": "markdown",
   "metadata": {},
   "source": [
    "As described above, you enter your credentials as follows:"
   ]
  },
  {
   "cell_type": "code",
   "execution_count": 12,
   "metadata": {},
   "outputs": [],
   "source": [
    "GC.podaac_username = 'username' # Enter your PO.DAAC API credentials here\n",
    "GC.podaac_password = 'password'"
   ]
  },
  {
   "cell_type": "markdown",
   "metadata": {
    "collapsed": true
   },
   "source": [
    "Now, we are ready to run the elevation component of this module!"
   ]
  },
  {
   "cell_type": "code",
   "execution_count": 13,
   "metadata": {},
   "outputs": [
    {
     "name": "stdout",
     "output_type": "stream",
     "text": [
      "Creating elevation compilation for Jakobshavn\n",
      "    Running compilation for the GLISTIN data\n",
      "        Finding a list of GLISTIN files which overlap the domain\n",
      "        Found 12 files\n",
      "        Downloading the GLISTIN files from PO.DAAC\n",
      "            Checking file OMG_Ice_GLISTIN-A_L3_20160320181742_72.nc\n",
      "            Checking file OMG_Ice_GLISTIN-A_L3_20170317111912_72.nc\n",
      "            Checking file OMG_Ice_GLISTIN-A_L3_20180307153224_72.nc\n",
      "            Checking file OMG_Ice_GLISTIN-A_L3_20190307120957_72.nc\n",
      "            Checking file OMG_Ice_GLISTIN-A_L3_20160320175801_73.nc\n",
      "            Checking file OMG_Ice_GLISTIN-A_L3_20170317110243_73.nc\n",
      "            Checking file OMG_Ice_GLISTIN-A_L3_20180307151404_73.nc\n",
      "            Checking file OMG_Ice_GLISTIN-A_L3_20190307115324_73.nc\n",
      "            Checking file OMG_Ice_GLISTIN-A_L3_20160320173858_74.nc\n",
      "            Checking file OMG_Ice_GLISTIN-A_L3_20170317104625_74.nc\n",
      "            Checking file OMG_Ice_GLISTIN-A_L3_20180307145709_74.nc\n",
      "            Checking file OMG_Ice_GLISTIN-A_L3_20190307113710_74.nc\n",
      "        Resampling the GLISTIN data onto to the regional domain\n",
      "          Working on data for date 20160320 (1 of 4)\n",
      "              Adding in data from file OMG_Ice_GLISTIN-A_L3_20160320181742_72.nc (1 of 12)\n",
      "                  Reading in the DEM\n",
      "                  Limiting DEM to region domain\n",
      "                  Adding points to domain via nearest neighbor interpolation\n",
      "              Adding in data from file OMG_Ice_GLISTIN-A_L3_20160320175801_73.nc (5 of 12)\n",
      "                  Reading in the DEM\n",
      "                  Limiting DEM to region domain\n",
      "                  Adding points to domain via nearest neighbor interpolation\n",
      "              Adding in data from file OMG_Ice_GLISTIN-A_L3_20160320173858_74.nc (9 of 12)\n",
      "                  Reading in the DEM\n",
      "                  Limiting DEM to region domain\n",
      "                  Adding points to domain via nearest neighbor interpolation\n",
      "          Working on data for date 20170317 (2 of 4)\n",
      "              Adding in data from file OMG_Ice_GLISTIN-A_L3_20170317111912_72.nc (2 of 12)\n",
      "                  Reading in the DEM\n",
      "                  Limiting DEM to region domain\n",
      "                  Adding points to domain via nearest neighbor interpolation\n",
      "              Adding in data from file OMG_Ice_GLISTIN-A_L3_20170317110243_73.nc (6 of 12)\n",
      "                  Reading in the DEM\n",
      "                  Limiting DEM to region domain\n",
      "                  Adding points to domain via nearest neighbor interpolation\n",
      "              Adding in data from file OMG_Ice_GLISTIN-A_L3_20170317104625_74.nc (10 of 12)\n",
      "                  Reading in the DEM\n",
      "                  Limiting DEM to region domain\n",
      "                  Adding points to domain via nearest neighbor interpolation\n",
      "          Working on data for date 20180307 (3 of 4)\n",
      "              Adding in data from file OMG_Ice_GLISTIN-A_L3_20180307153224_72.nc (3 of 12)\n",
      "                  Reading in the DEM\n",
      "                  Limiting DEM to region domain\n",
      "                  Adding points to domain via nearest neighbor interpolation\n",
      "              Adding in data from file OMG_Ice_GLISTIN-A_L3_20180307151404_73.nc (7 of 12)\n",
      "                  Reading in the DEM\n",
      "                  Limiting DEM to region domain\n",
      "                  Adding points to domain via nearest neighbor interpolation\n",
      "              Adding in data from file OMG_Ice_GLISTIN-A_L3_20180307145709_74.nc (11 of 12)\n",
      "                  Reading in the DEM\n",
      "                  Limiting DEM to region domain\n",
      "                  Adding points to domain via nearest neighbor interpolation\n",
      "          Working on data for date 20190307 (4 of 4)\n",
      "              Adding in data from file OMG_Ice_GLISTIN-A_L3_20190307120957_72.nc (4 of 12)\n",
      "                  Reading in the DEM\n",
      "                  Limiting DEM to region domain\n",
      "                  Adding points to domain via nearest neighbor interpolation\n",
      "              Adding in data from file OMG_Ice_GLISTIN-A_L3_20190307115324_73.nc (8 of 12)\n",
      "                  Reading in the DEM\n",
      "                  Limiting DEM to region domain\n",
      "                  Adding points to domain via nearest neighbor interpolation\n",
      "              Adding in data from file OMG_Ice_GLISTIN-A_L3_20190307113710_74.nc (12 of 12)\n",
      "                  Reading in the DEM\n",
      "                  Limiting DEM to region domain\n",
      "                  Adding points to domain via nearest neighbor interpolation\n",
      "        Outputting data to /Users/michwood/Documents/Research/Projects/Greenland Dynamics/Tmp/Jakobshavn/Elevation/Data/Jakobshavn GLISTIN Elevation Grids.nc\n"
     ]
    }
   ],
   "source": [
    "GC.execute_velocity_and_elevation_compilations()"
   ]
  },
  {
   "cell_type": "markdown",
   "metadata": {
    "collapsed": true
   },
   "source": [
    "### Examining the outputs"
   ]
  },
  {
   "cell_type": "markdown",
   "metadata": {},
   "source": [
    "As the elevation data is compiled, a lot of metadata is printed out to inform you of the progress. When the routine is complete, lets take a look at the outputs:\n",
    "\n",
    "### data_folder\n",
    "\n",
    "First take a look at your `data_folder`. Here you will find a new `Elevation` directory, which contains a new `GLISTIN` directory, that contains the new data downloaded from PO.DAAC.\n",
    "\n",
    "### project_folder\n",
    "\n",
    "Then, take a look at your `project_folder`. We can see that a directory named `Jakobshavn` was created in your `project_folder` with a directory as follows:\n",
    "\n",
    "| File | Description |\n",
    "|------|-------------|\n",
    "|Jakobshavn CHANGES Process Metadata.txt|A concise output of the metadata printed from the routine|\n",
    "|Elevation\\Metadata\\Jakobshavn GLISTIN Files.csv|A list of all files which overlap the region of interest defined by the extents|\n",
    "|Elevation\\Data\\Jakobshavn GLISTIN Elevation Grids.nc|A netCDF4 file which contains the elevation grids sampled onto the same grid|\n",
    "\n",
    "The final file output is the heart of this package - the homogenized elevation grids.\n",
    "\n",
    "By examing the file in a netCDF4 viewer (such as [Panoply](https://www.giss.nasa.gov/tools/panoply/), recommended), we can see there are 6 output variables - one each for the `x` and `y` dimensions, and 4 each for the data grids. Each data grid is stored by its date (YYYYMMDD) and contains metadata for the file(s) used to generate the grid. \n",
    "\n",
    "We can plot one of the layers to observe the elevation of Jakobshavn:\n"
   ]
  },
  {
   "cell_type": "code",
   "execution_count": 14,
   "metadata": {},
   "outputs": [
    {
     "data": {
      "text/plain": [
       "<matplotlib.colorbar.Colorbar at 0x7faa20ed3eb0>"
      ]
     },
     "execution_count": 14,
     "metadata": {},
     "output_type": "execute_result"
    },
    {
     "data": {
      "image/png": "[encoded data removed]",
      "text/plain": [
       "<Figure size 432x288 with 2 Axes>"
      ]
     },
     "metadata": {
      "needs_background": "light"
     },
     "output_type": "display_data"
    }
   ],
   "source": [
    "import os\n",
    "import numpy as np\n",
    "import matplotlib.pyplot as plt\n",
    "import netCDF4 as nc4\n",
    "\n",
    "file_path = os.path.join(project_folder,GC.region_name,'Elevation','Data',GC.region_name+' GLISTIN Elevation Grids.nc')\n",
    "ds = nc4.Dataset(file_path)\n",
    "x = ds.variables['x'][:]\n",
    "y = ds.variables['y'][:]\n",
    "dem = ds.variables['20170317'][:,:]\n",
    "\n",
    "C = plt.imshow(dem,extent=[np.min(x),np.max(x),np.min(y),np.max(y)],origin='lower')\n",
    "plt.colorbar(C)"
   ]
  },
  {
   "cell_type": "markdown",
   "metadata": {},
   "source": [
    "## Objective 2: A timeseries of velocity"
   ]
  },
  {
   "cell_type": "markdown",
   "metadata": {},
   "source": [
    "For velocity, we can apply the same approach using CHANGES. For this example, we will use the site-specific InSAR maps of velocity available at [NSIDC](https://nsidc.org/data/nsidc-0481). Similar to previous example, we adjust the parameters of the init_object to activate the InSAR fields. Note that there are 984 velocity files for Jakobshavn after and this download will take up approxiomately 1 GB on your drive. If a smaller download is desired for testing, then the `max_number_of_measures_insar_files` parameter can be adjusted:"
   ]
  },
  {
   "cell_type": "code",
   "execution_count": 15,
   "metadata": {},
   "outputs": [],
   "source": [
    "import datetime\n",
    "GC.deactivate_all_sources()\n",
    "GC.compile_velocity = True\n",
    "GC.compile_measures_insar_data = True\n",
    "GC.date1 = datetime.datetime(2016,1,1)\n",
    "GC.date2 = datetime.datetime(2021,1,1)\n",
    "#GC.max_number_of_measures_insar_files = 5 #optional parameter to just download a few files"
   ]
  },
  {
   "cell_type": "markdown",
   "metadata": {},
   "source": [
    "With a quick switch of parameters, the module is ready to run:"
   ]
  },
  {
   "cell_type": "code",
   "execution_count": 16,
   "metadata": {},
   "outputs": [
    {
     "name": "stdout",
     "output_type": "stream",
     "text": [
      "Creating velocity compilation for Jakobshavn\n",
      "    Running compilation for the MEaSUREs InSAR data\n",
      "        Found 2656 MEaSUREs InSAR files overlapping the domain\n",
      "            Found 984 existing files - downloading 1672 files\n",
      "        Stacking MEaSUREs InSAR data into a common grid\n",
      "            Looking for velocity points in 20151223-20160103 (file 1 of 246)\n",
      "              Looking for velocity points in TSX_W69.10N_23Dec15_03Jan16_10-05-50 (file 1 of 1)\n",
      "              Found 62793.0 points\n",
      "            Looking for velocity points in 20151224-20160104 (file 2 of 246)\n",
      "              Looking for velocity points in TSX_W69.10N_24Dec15_04Jan16_20-41-38 (file 1 of 1)\n",
      "              Found 65533.0 points\n",
      "            Looking for velocity points in 20160103-20160114 (file 3 of 246)\n",
      "              Looking for velocity points in TSX_W69.10N_03Jan16_14Jan16_10-05-50 (file 1 of 1)\n",
      "              Found 63149.0 points\n",
      "            Looking for velocity points in 20160114-20160125 (file 4 of 246)\n",
      "              Looking for velocity points in TSX_W69.10N_14Jan16_25Jan16_10-05-49 (file 1 of 1)\n",
      "              Found 63067.0 points\n",
      "            Looking for velocity points in 20160125-20160205 (file 5 of 246)\n",
      "              Looking for velocity points in TSX_W69.10N_25Jan16_05Feb16_10-05-49 (file 1 of 1)\n",
      "              Found 62875.0 points\n",
      "            Looking for velocity points in 20160205-20160216 (file 6 of 246)\n",
      "              Looking for velocity points in TSX_W69.10N_05Feb16_16Feb16_10-05-49 (file 1 of 1)\n",
      "              Found 62893.0 points\n",
      "            Looking for velocity points in 20160206-20160217 (file 7 of 246)\n",
      "              Looking for velocity points in TSX_W69.10N_06Feb16_17Feb16_15-15-08 (file 1 of 1)\n",
      "              Found 125070.0 points\n",
      "            Looking for velocity points in 20160210-20160221 (file 8 of 246)\n",
      "              Looking for velocity points in TSX_W68.60N_10Feb16_21Feb16_10-14-29 (file 1 of 1)\n",
      "              Found 0.0 points\n",
      "            Looking for velocity points in 20160216-20160227 (file 9 of 246)\n",
      "              Looking for velocity points in TSX_W69.10N_16Feb16_27Feb16_10-05-49 (file 1 of 1)\n",
      "              Found 63018.0 points\n",
      "            Looking for velocity points in 20160217-20160228 (file 10 of 246)\n",
      "              Looking for velocity points in TSX_W69.10N_17Feb16_28Feb16_20-41-37 (file 1 of 1)\n",
      "              Found 64438.0 points\n",
      "            Looking for velocity points in 20160227-20160309 (file 11 of 246)\n",
      "              Looking for velocity points in TSX_W69.10N_27Feb16_09Mar16_10-05-49 (file 1 of 1)\n",
      "              Found 63210.0 points\n",
      "            Looking for velocity points in 20160228-20160310 (file 12 of 246)\n",
      "              Looking for velocity points in TSX_W69.10N_28Feb16_10Mar16_20-41-37 (file 1 of 1)\n",
      "              Found 63701.0 points\n",
      "            Looking for velocity points in 20160309-20160320 (file 13 of 246)\n",
      "              Looking for velocity points in TSX_W69.10N_09Mar16_20Mar16_10-05-49 (file 1 of 1)\n",
      "              Found 62617.0 points\n",
      "            Looking for velocity points in 20160310-20160321 (file 14 of 246)\n",
      "              Looking for velocity points in TSX_W69.10N_10Mar16_21Mar16_20-41-37 (file 1 of 1)\n",
      "              Found 64185.0 points\n",
      "            Looking for velocity points in 20160320-20160331 (file 15 of 246)\n",
      "              Looking for velocity points in TSX_W69.10N_20Mar16_31Mar16_10-05-50 (file 1 of 1)\n",
      "              Found 62450.0 points\n",
      "            Looking for velocity points in 20160321-20160401 (file 16 of 246)\n",
      "              Looking for velocity points in TSX_W69.10N_21Mar16_01Apr16_20-41-38 (file 1 of 1)\n",
      "              Found 64045.0 points\n",
      "            Looking for velocity points in 20160331-20160411 (file 17 of 246)\n",
      "              Looking for velocity points in TSX_W69.10N_31Mar16_11Apr16_10-05-50 (file 1 of 1)\n",
      "              Found 62698.0 points\n",
      "            Looking for velocity points in 20160401-20160412 (file 18 of 246)\n",
      "              Looking for velocity points in TSX_W69.10N_01Apr16_12Apr16_20-41-38 (file 1 of 1)\n",
      "              Found 63281.0 points\n",
      "            Looking for velocity points in 20160411-20160422 (file 19 of 246)\n",
      "              Looking for velocity points in TSX_W69.10N_11Apr16_22Apr16_10-05-51 (file 1 of 1)\n",
      "              Found 52227.0 points\n",
      "            Looking for velocity points in 20160412-20160423 (file 20 of 246)\n",
      "              Looking for velocity points in TSX_W69.10N_12Apr16_23Apr16_20-41-39 (file 1 of 1)\n",
      "              Found 60727.0 points\n",
      "            Looking for velocity points in 20160422-20160503 (file 21 of 246)\n",
      "              Looking for velocity points in TSX_W69.10N_22Apr16_03May16_10-05-52 (file 1 of 1)\n",
      "              Found 62195.0 points\n",
      "            Looking for velocity points in 20160423-20160504 (file 22 of 246)\n",
      "              Looking for velocity points in TSX_W69.10N_23Apr16_04May16_20-41-40 (file 1 of 1)\n",
      "              Found 55555.0 points\n",
      "            Looking for velocity points in 20160503-20160514 (file 23 of 246)\n",
      "              Looking for velocity points in TSX_W69.10N_03May16_14May16_10-05-52 (file 1 of 1)\n",
      "              Found 47779.0 points\n",
      "            Looking for velocity points in 20160504-20160515 (file 24 of 246)\n",
      "              Looking for velocity points in TSX_W69.10N_04May16_15May16_20-41-40 (file 1 of 1)\n",
      "              Found 47705.0 points\n",
      "            Looking for velocity points in 20160514-20160525 (file 25 of 246)\n",
      "              Looking for velocity points in TSX_W69.10N_14May16_25May16_10-05-53 (file 1 of 1)\n",
      "              Found 61607.0 points\n",
      "            Looking for velocity points in 20160515-20160526 (file 26 of 246)\n",
      "              Looking for velocity points in TSX_W69.10N_15May16_26May16_15-15-12 (file 1 of 1)\n",
      "              Found 106856.0 points\n",
      "            Looking for velocity points in 20160519-20160530 (file 27 of 246)\n",
      "              Looking for velocity points in TSX_W68.60N_19May16_30May16_10-14-34 (file 1 of 1)\n",
      "              Found 0.0 points\n",
      "            Looking for velocity points in 20160525-20160605 (file 28 of 246)\n",
      "              Looking for velocity points in TSX_W69.10N_25May16_05Jun16_10-05-53 (file 1 of 1)\n",
      "              Found 61951.0 points\n",
      "            Looking for velocity points in 20160526-20160606 (file 29 of 246)\n",
      "              Looking for velocity points in TSX_W69.10N_26May16_06Jun16_20-41-41 (file 1 of 1)\n",
      "              Found 60734.0 points\n",
      "            Looking for velocity points in 20160526-20160617 (file 30 of 246)\n",
      "              Looking for velocity points in TSX_W69.10N_26May16_17Jun16_09-48-43 (file 1 of 1)\n",
      "              Found 88447.0 points\n",
      "            Looking for velocity points in 20160530-20160621 (file 31 of 246)\n",
      "              Looking for velocity points in TSX_W68.60N_30May16_21Jun16_10-14-34 (file 1 of 1)\n",
      "              Found 0.0 points\n",
      "            Looking for velocity points in 20160605-20160616 (file 32 of 246)\n",
      "              Looking for velocity points in TSX_W69.10N_05Jun16_16Jun16_10-05-54 (file 1 of 1)\n",
      "              Found 59342.0 points\n",
      "            Looking for velocity points in 20160606-20160617 (file 33 of 246)\n",
      "              Looking for velocity points in TSX_W69.10N_06Jun16_17Jun16_20-41-41 (file 1 of 1)\n",
      "              Found 59590.0 points\n",
      "            Looking for velocity points in 20160616-20160627 (file 34 of 246)\n",
      "              Looking for velocity points in TSX_W69.10N_16Jun16_27Jun16_10-05-54 (file 1 of 1)\n",
      "              Found 61706.0 points\n",
      "            Looking for velocity points in 20160617-20160709 (file 35 of 246)\n",
      "              Looking for velocity points in TSX_W69.10N_17Jun16_09Jul16_15-15-13 (file 1 of 1)\n",
      "              Found 112880.0 points\n",
      "            Looking for velocity points in 20160621-20160702 (file 36 of 246)\n",
      "              Looking for velocity points in TSX_W68.60N_21Jun16_02Jul16_10-14-35 (file 1 of 1)\n",
      "              Found 0.0 points\n",
      "            Looking for velocity points in 20160627-20160708 (file 37 of 246)\n",
      "              Looking for velocity points in TSX_W69.10N_27Jun16_08Jul16_10-05-54 (file 1 of 1)\n",
      "              Found 61347.0 points\n",
      "            Looking for velocity points in 20160702-20160713 (file 38 of 246)\n",
      "              Looking for velocity points in TSX_W68.60N_02Jul16_13Jul16_10-14-36 (file 1 of 1)\n",
      "              Found 0.0 points\n",
      "            Looking for velocity points in 20160704-20160715 (file 39 of 246)\n",
      "              Looking for velocity points in TSX_W69.10N_04Jul16_15Jul16_20-33-09 (file 1 of 1)\n"
     ]
    },
    {
     "name": "stdout",
     "output_type": "stream",
     "text": [
      "              Found 90101.0 points\n",
      "            Looking for velocity points in 20160708-20160719 (file 40 of 246)\n",
      "              Looking for velocity points in TSX_W69.10N_08Jul16_19Jul16_10-05-55 (file 1 of 1)\n",
      "              Found 60701.0 points\n",
      "            Looking for velocity points in 20160713-20160724 (file 41 of 246)\n",
      "              Looking for velocity points in TSX_W68.60N_13Jul16_24Jul16_10-14-36 (file 1 of 1)\n",
      "              Found 0.0 points\n",
      "            Looking for velocity points in 20160715-20160726 (file 42 of 246)\n",
      "              Looking for velocity points in TSX_W69.10N_15Jul16_26Jul16_20-33-09 (file 1 of 1)\n",
      "              Found 90543.0 points\n",
      "            Looking for velocity points in 20160719-20160730 (file 43 of 246)\n",
      "              Looking for velocity points in TSX_W69.10N_19Jul16_30Jul16_10-05-55 (file 1 of 1)\n",
      "              Found 60710.0 points\n",
      "            Looking for velocity points in 20160721-20160801 (file 44 of 246)\n",
      "              Looking for velocity points in TSX_W69.10N_21Jul16_01Aug16_20-24-37 (file 1 of 1)\n",
      "              Found 48687.0 points\n",
      "            Looking for velocity points in 20160726-20160806 (file 45 of 246)\n",
      "              Looking for velocity points in TSX_W69.10N_26Jul16_06Aug16_20-33-10 (file 1 of 1)\n",
      "              Found 90430.0 points\n",
      "            Looking for velocity points in 20160730-20160901 (file 46 of 246)\n",
      "              Looking for velocity points in TSX_W69.10N_30Jul16_01Sep16_10-05-56 (file 1 of 1)\n",
      "              Found 52768.0 points\n",
      "            Looking for velocity points in 20160801-20160812 (file 47 of 246)\n",
      "              Looking for velocity points in TSX_W69.10N_01Aug16_12Aug16_20-24-37 (file 1 of 1)\n",
      "              Found 48471.0 points\n",
      "            Looking for velocity points in 20160806-20160817 (file 48 of 246)\n",
      "              Looking for velocity points in TSX_W69.10N_06Aug16_17Aug16_20-33-10 (file 1 of 1)\n",
      "              Found 90071.0 points\n",
      "            Looking for velocity points in 20160812-20160823 (file 49 of 246)\n",
      "              Looking for velocity points in TSX_W69.10N_12Aug16_23Aug16_20-24-38 (file 1 of 1)\n",
      "              Found 47891.0 points\n",
      "            Looking for velocity points in 20160817-20160828 (file 50 of 246)\n",
      "              Looking for velocity points in TSX_W69.10N_17Aug16_28Aug16_20-33-11 (file 1 of 1)\n",
      "              Found 91410.0 points\n",
      "            Looking for velocity points in 20160823-20160903 (file 51 of 246)\n",
      "              Looking for velocity points in TSX_W69.10N_23Aug16_03Sep16_20-24-39 (file 1 of 1)\n",
      "              Found 48117.0 points\n",
      "            Looking for velocity points in 20160828-20160908 (file 52 of 246)\n",
      "              Looking for velocity points in TSX_W69.10N_28Aug16_08Sep16_20-33-12 (file 1 of 1)\n",
      "              Found 92021.0 points\n",
      "            Looking for velocity points in 20160901-20160912 (file 53 of 246)\n",
      "              Looking for velocity points in TSX_W69.10N_01Sep16_12Sep16_10-05-58 (file 1 of 1)\n",
      "              Found 61308.0 points\n",
      "            Looking for velocity points in 20160902-20160913 (file 54 of 246)\n",
      "              Looking for velocity points in TSX_W69.10N_02Sep16_13Sep16_15-15-17 (file 1 of 1)\n",
      "              Found 124226.0 points\n",
      "            Looking for velocity points in 20160903-20160914 (file 55 of 246)\n",
      "              Looking for velocity points in TSX_W69.10N_03Sep16_14Sep16_20-24-39 (file 1 of 1)\n",
      "              Found 49494.0 points\n",
      "            Looking for velocity points in 20160906-20160917 (file 56 of 246)\n",
      "              Looking for velocity points in TSX_W68.60N_06Sep16_17Sep16_10-14-39 (file 1 of 1)\n",
      "              Found 0.0 points\n",
      "            Looking for velocity points in 20160908-20160919 (file 57 of 246)\n",
      "              Looking for velocity points in TSX_W69.10N_08Sep16_19Sep16_20-33-13 (file 1 of 1)\n",
      "              Found 92424.0 points\n",
      "            Looking for velocity points in 20160912-20160923 (file 58 of 246)\n",
      "              Looking for velocity points in TSX_W69.10N_12Sep16_23Sep16_10-05-59 (file 1 of 1)\n",
      "              Found 62944.0 points\n",
      "            Looking for velocity points in 20160913-20160924 (file 59 of 246)\n",
      "              Looking for velocity points in TSX_W69.10N_13Sep16_24Sep16_20-41-47 (file 1 of 1)\n",
      "              Found 64088.0 points\n",
      "            Looking for velocity points in 20160923-20161004 (file 60 of 246)\n",
      "              Looking for velocity points in TSX_W69.10N_23Sep16_04Oct16_10-05-59 (file 1 of 1)\n",
      "              Found 63084.0 points\n",
      "            Looking for velocity points in 20160924-20161016 (file 61 of 246)\n",
      "              Looking for velocity points in TSX_W69.10N_24Sep16_16Oct16_20-41-47 (file 1 of 1)\n",
      "              Found 62316.0 points\n",
      "            Looking for velocity points in 20161004-20161015 (file 62 of 246)\n",
      "              Looking for velocity points in TSX_W69.10N_04Oct16_15Oct16_10-06-00 (file 1 of 1)\n",
      "              Found 63459.0 points\n",
      "            Looking for velocity points in 20161015-20161026 (file 63 of 246)\n",
      "              Looking for velocity points in TSX_W69.10N_15Oct16_26Oct16_10-06-00 (file 1 of 1)\n",
      "              Found 63380.0 points\n",
      "            Looking for velocity points in 20161016-20161107 (file 64 of 246)\n",
      "              Looking for velocity points in TSX_W69.10N_16Oct16_07Nov16_20-41-48 (file 1 of 1)\n",
      "              Found 63359.0 points\n",
      "            Looking for velocity points in 20161022-20161102 (file 65 of 246)\n",
      "              Looking for velocity points in TSX_W69.10N_22Oct16_02Nov16_20-33-15 (file 1 of 1)\n",
      "              Found 92450.0 points\n",
      "            Looking for velocity points in 20161026-20161106 (file 66 of 246)\n",
      "              Looking for velocity points in TSX_W69.10N_26Oct16_06Nov16_10-06-00 (file 1 of 1)\n",
      "              Found 63484.0 points\n",
      "            Looking for velocity points in 20161102-20161113 (file 67 of 246)\n",
      "              Looking for velocity points in TSX_W69.10N_02Nov16_13Nov16_20-33-15 (file 1 of 1)\n",
      "              Found 93265.0 points\n",
      "            Looking for velocity points in 20161106-20161117 (file 68 of 246)\n",
      "              Looking for velocity points in TSX_W69.10N_06Nov16_17Nov16_10-06-01 (file 1 of 1)\n",
      "              Found 63780.0 points\n",
      "            Looking for velocity points in 20161107-20161118 (file 69 of 246)\n",
      "              Looking for velocity points in TSX_W69.10N_07Nov16_18Nov16_20-41-48 (file 1 of 1)\n",
      "              Found 64804.0 points\n",
      "            Looking for velocity points in 20161111-20161122 (file 70 of 246)\n",
      "              Looking for velocity points in TSX_W68.60N_11Nov16_22Nov16_10-14-41 (file 1 of 1)\n",
      "              Found 0.0 points\n",
      "            Looking for velocity points in 20161117-20161128 (file 71 of 246)\n",
      "              Looking for velocity points in TSX_W69.10N_17Nov16_28Nov16_10-06-00 (file 1 of 1)\n",
      "              Found 63754.0 points\n",
      "            Looking for velocity points in 20161118-20161129 (file 72 of 246)\n",
      "              Looking for velocity points in TSX_W69.10N_18Nov16_29Nov16_15-15-19 (file 1 of 1)\n",
      "              Found 125860.0 points\n",
      "            Looking for velocity points in 20161119-20161130 (file 73 of 246)\n",
      "              Looking for velocity points in TSX_W69.10N_19Nov16_30Nov16_20-24-41 (file 1 of 1)\n",
      "              Found 50437.0 points\n",
      "            Looking for velocity points in 20161128-20161209 (file 74 of 246)\n",
      "              Looking for velocity points in TSX_W69.10N_28Nov16_09Dec16_10-06-00 (file 1 of 1)\n",
      "              Found 63537.0 points\n",
      "            Looking for velocity points in 20161129-20161221 (file 75 of 246)\n",
      "              Looking for velocity points in TSX_W69.10N_29Nov16_21Dec16_20-41-48 (file 1 of 1)\n",
      "              Found 63722.0 points\n",
      "            Looking for velocity points in 20161130-20161211 (file 76 of 246)\n",
      "              Looking for velocity points in TSX_W69.10N_30Nov16_11Dec16_20-24-41 (file 1 of 1)\n",
      "              Found 51155.0 points\n",
      "            Looking for velocity points in 20161209-20161220 (file 77 of 246)\n",
      "              Looking for velocity points in TSX_W69.10N_09Dec16_20Dec16_10-06-00 (file 1 of 1)\n",
      "              Found 63843.0 points\n",
      "            Looking for velocity points in 20161211-20161222 (file 78 of 246)\n",
      "              Looking for velocity points in TSX_W69.10N_11Dec16_22Dec16_20-24-41 (file 1 of 1)\n",
      "              Found 51696.0 points\n",
      "            Looking for velocity points in 20161220-20161231 (file 79 of 246)\n",
      "              Looking for velocity points in TSX_W69.10N_20Dec16_31Dec16_10-05-59 (file 1 of 1)\n"
     ]
    },
    {
     "name": "stdout",
     "output_type": "stream",
     "text": [
      "              Found 64407.0 points\n",
      "            Looking for velocity points in 20161221-20170101 (file 80 of 246)\n",
      "              Looking for velocity points in TSX_W69.10N_21Dec16_01Jan17_20-41-47 (file 1 of 1)\n",
      "              Found 65785.0 points\n",
      "            Looking for velocity points in 20161222-20170102 (file 81 of 246)\n",
      "              Looking for velocity points in TSX_W69.10N_22Dec16_02Jan17_20-24-41 (file 1 of 1)\n",
      "              Found 51176.0 points\n",
      "            Looking for velocity points in 20161227-20170107 (file 82 of 246)\n",
      "              Looking for velocity points in TSX_W69.10N_27Dec16_07Jan17_20-33-14 (file 1 of 1)\n",
      "              Found 93638.0 points\n",
      "            Looking for velocity points in 20161231-20170111 (file 83 of 246)\n",
      "              Looking for velocity points in TSX_W69.10N_31Dec16_11Jan17_10-05-59 (file 1 of 1)\n",
      "              Found 63629.0 points\n",
      "            Looking for velocity points in 20170101-20170112 (file 84 of 246)\n",
      "              Looking for velocity points in TSX_W69.10N_01Jan17_12Jan17_20-41-46 (file 1 of 1)\n",
      "              Found 65697.0 points\n",
      "            Looking for velocity points in 20170102-20170113 (file 85 of 246)\n",
      "              Looking for velocity points in TSX_W69.10N_02Jan17_13Jan17_20-24-39 (file 1 of 1)\n",
      "              Found 51033.0 points\n",
      "            Looking for velocity points in 20170107-20170118 (file 86 of 246)\n",
      "              Looking for velocity points in TSX_W69.10N_07Jan17_18Jan17_20-33-12 (file 1 of 1)\n",
      "              Found 93236.0 points\n",
      "            Looking for velocity points in 20170111-20170122 (file 87 of 246)\n",
      "              Looking for velocity points in TSX_W69.10N_11Jan17_22Jan17_10-05-58 (file 1 of 1)\n",
      "              Found 63652.0 points\n",
      "            Looking for velocity points in 20170112-20170123 (file 88 of 246)\n",
      "              Looking for velocity points in TSX_W69.10N_12Jan17_23Jan17_20-41-45 (file 1 of 1)\n",
      "              Found 65956.0 points\n",
      "            Looking for velocity points in 20170118-20170129 (file 89 of 246)\n",
      "              Looking for velocity points in TSX_W69.10N_18Jan17_29Jan17_20-33-12 (file 1 of 1)\n",
      "              Found 93090.0 points\n",
      "            Looking for velocity points in 20170122-20170202 (file 90 of 246)\n",
      "              Looking for velocity points in TSX_W69.10N_22Jan17_02Feb17_10-05-57 (file 1 of 1)\n",
      "              Found 64337.0 points\n",
      "            Looking for velocity points in 20170123-20170203 (file 91 of 246)\n",
      "              Looking for velocity points in TSX_W69.10N_23Jan17_03Feb17_20-41-45 (file 1 of 1)\n",
      "              Found 65401.0 points\n",
      "            Looking for velocity points in 20170202-20170213 (file 92 of 246)\n",
      "              Looking for velocity points in TSX_W69.10N_02Feb17_13Feb17_10-05-57 (file 1 of 1)\n",
      "              Found 64888.0 points\n",
      "            Looking for velocity points in 20170207-20170218 (file 93 of 246)\n",
      "              Looking for velocity points in TSX_W68.60N_07Feb17_18Feb17_10-14-38 (file 1 of 1)\n",
      "              Found 0.0 points\n",
      "            Looking for velocity points in 20170213-20170224 (file 94 of 246)\n",
      "              Looking for velocity points in TSX_W69.10N_13Feb17_24Feb17_10-05-57 (file 1 of 1)\n",
      "              Found 64225.0 points\n",
      "            Looking for velocity points in 20170214-20170225 (file 95 of 246)\n",
      "              Looking for velocity points in TSX_W69.10N_14Feb17_25Feb17_09-48-47 (file 1 of 1)\n",
      "              Found 95329.0 points\n",
      "            Looking for velocity points in 20170224-20170307 (file 96 of 246)\n",
      "              Looking for velocity points in TSX_W69.10N_24Feb17_07Mar17_10-05-57 (file 1 of 1)\n",
      "              Found 64490.0 points\n",
      "            Looking for velocity points in 20170307-20170318 (file 97 of 246)\n",
      "              Looking for velocity points in TSX_W69.10N_07Mar17_18Mar17_10-05-57 (file 1 of 1)\n",
      "              Found 64693.0 points\n",
      "            Looking for velocity points in 20170318-20170329 (file 98 of 246)\n",
      "              Looking for velocity points in TSX_W69.10N_18Mar17_29Mar17_10-05-58 (file 1 of 1)\n",
      "              Found 64722.0 points\n",
      "            Looking for velocity points in 20170319-20170410 (file 99 of 246)\n",
      "              Looking for velocity points in TSX_W69.10N_19Mar17_10Apr17_20-41-46 (file 1 of 1)\n",
      "              Found 64697.0 points\n",
      "            Looking for velocity points in 20170329-20170409 (file 100 of 246)\n",
      "              Looking for velocity points in TSX_W69.10N_29Mar17_09Apr17_10-05-58 (file 1 of 1)\n",
      "              Found 64431.0 points\n",
      "            Looking for velocity points in 20170409-20170420 (file 101 of 246)\n",
      "              Looking for velocity points in TSX_W69.10N_09Apr17_20Apr17_10-05-58 (file 1 of 1)\n",
      "              Found 64505.0 points\n",
      "            Looking for velocity points in 20170410-20170421 (file 102 of 246)\n",
      "              Looking for velocity points in TSX_W69.10N_10Apr17_21Apr17_20-41-46 (file 1 of 1)\n",
      "              Found 66803.0 points\n",
      "            Looking for velocity points in 20170420-20170501 (file 103 of 246)\n",
      "              Looking for velocity points in TSX_W69.10N_20Apr17_01May17_10-05-59 (file 1 of 1)\n",
      "              Found 64867.0 points\n",
      "            Looking for velocity points in 20170421-20170502 (file 104 of 246)\n",
      "              Looking for velocity points in TSX_W69.10N_21Apr17_02May17_20-41-47 (file 1 of 1)\n",
      "              Found 66371.0 points\n",
      "            Looking for velocity points in 20170501-20170512 (file 105 of 246)\n",
      "              Looking for velocity points in TSX_W69.10N_01May17_12May17_10-06-00 (file 1 of 1)\n",
      "              Found 64273.0 points\n",
      "            Looking for velocity points in 20170502-20170513 (file 106 of 246)\n",
      "              Looking for velocity points in TSX_W69.10N_02May17_13May17_20-41-48 (file 1 of 1)\n",
      "              Found 66239.0 points\n",
      "            Looking for velocity points in 20170512-20170523 (file 107 of 246)\n",
      "              Looking for velocity points in TSX_W69.10N_12May17_23May17_10-06-00 (file 1 of 1)\n",
      "              Found 62608.0 points\n",
      "            Looking for velocity points in 20170513-20170524 (file 108 of 246)\n",
      "              Looking for velocity points in TSX_W69.10N_13May17_24May17_20-41-48 (file 1 of 1)\n",
      "              Found 46445.0 points\n",
      "            Looking for velocity points in 20170523-20170603 (file 109 of 246)\n",
      "              Looking for velocity points in TSX_W69.10N_23May17_03Jun17_10-06-00 (file 1 of 1)\n",
      "              Found 63965.0 points\n",
      "            Looking for velocity points in 20170524-20170604 (file 110 of 246)\n",
      "              Looking for velocity points in TSX_W69.10N_24May17_04Jun17_15-15-20 (file 1 of 1)\n",
      "              Found 112827.0 points\n",
      "            Looking for velocity points in 20170528-20170608 (file 111 of 246)\n",
      "              Looking for velocity points in TSX_W68.60N_28May17_08Jun17_10-14-42 (file 1 of 1)\n",
      "              Found 0.0 points\n",
      "            Looking for velocity points in 20170603-20170614 (file 112 of 246)\n",
      "              Looking for velocity points in TSX_W69.10N_03Jun17_14Jun17_10-06-01 (file 1 of 1)\n",
      "              Found 63679.0 points\n",
      "            Looking for velocity points in 20170604-20170615 (file 113 of 246)\n",
      "              Looking for velocity points in TSX_W69.10N_04Jun17_15Jun17_15-15-20 (file 1 of 1)\n",
      "              Found 124715.0 points\n",
      "            Looking for velocity points in 20170608-20170619 (file 114 of 246)\n",
      "              Looking for velocity points in TSX_W68.60N_08Jun17_19Jun17_10-14-42 (file 1 of 1)\n",
      "              Found 0.0 points\n",
      "            Looking for velocity points in 20170614-20170625 (file 115 of 246)\n",
      "              Looking for velocity points in TSX_W69.10N_14Jun17_25Jun17_10-06-01 (file 1 of 1)\n",
      "              Found 63319.0 points\n",
      "            Looking for velocity points in 20170615-20170626 (file 116 of 246)\n",
      "              Looking for velocity points in TSX_W69.10N_15Jun17_26Jun17_15-15-21 (file 1 of 1)\n",
      "              Found 125538.0 points\n",
      "            Looking for velocity points in 20170619-20170630 (file 117 of 246)\n",
      "              Looking for velocity points in TSX_W68.60N_19Jun17_30Jun17_10-14-42 (file 1 of 1)\n",
      "              Found 0.0 points\n",
      "            Looking for velocity points in 20170625-20170706 (file 118 of 246)\n",
      "              Looking for velocity points in TSX_W69.10N_25Jun17_06Jul17_10-06-02 (file 1 of 1)\n",
      "              Found 62728.0 points\n",
      "            Looking for velocity points in 20170626-20170707 (file 119 of 246)\n",
      "              Looking for velocity points in TSX_W69.10N_26Jun17_07Jul17_15-15-21 (file 1 of 1)\n"
     ]
    },
    {
     "name": "stdout",
     "output_type": "stream",
     "text": [
      "              Found 125142.0 points\n",
      "            Looking for velocity points in 20170630-20170711 (file 120 of 246)\n",
      "              Looking for velocity points in TSX_W68.60N_30Jun17_11Jul17_10-14-43 (file 1 of 1)\n",
      "              Found 0.0 points\n",
      "            Looking for velocity points in 20170706-20170717 (file 121 of 246)\n",
      "              Looking for velocity points in TSX_W69.10N_06Jul17_17Jul17_10-06-03 (file 1 of 1)\n",
      "              Found 62037.0 points\n",
      "            Looking for velocity points in 20170707-20170718 (file 122 of 246)\n",
      "              Looking for velocity points in TSX_W69.10N_07Jul17_18Jul17_15-15-22 (file 1 of 1)\n",
      "              Found 124771.0 points\n",
      "            Looking for velocity points in 20170711-20170722 (file 123 of 246)\n",
      "              Looking for velocity points in TSX_W68.60N_11Jul17_22Jul17_10-14-43 (file 1 of 1)\n",
      "              Found 0.0 points\n",
      "            Looking for velocity points in 20170717-20170728 (file 124 of 246)\n",
      "              Looking for velocity points in TSX_W69.10N_17Jul17_28Jul17_10-06-03 (file 1 of 1)\n",
      "              Found 62692.0 points\n",
      "            Looking for velocity points in 20170718-20170809 (file 125 of 246)\n",
      "              Looking for velocity points in TSX_W69.10N_18Jul17_09Aug17_09-48-53 (file 1 of 1)\n",
      "              Found 92180.0 points\n",
      "            Looking for velocity points in 20170718-20170729 (file 126 of 246)\n",
      "              Looking for velocity points in TSX_W69.10N_18Jul17_29Jul17_20-41-51 (file 1 of 1)\n",
      "              Found 65037.0 points\n",
      "            Looking for velocity points in 20170722-20170813 (file 127 of 246)\n",
      "              Looking for velocity points in TSX_W68.60N_22Jul17_13Aug17_10-14-44 (file 1 of 1)\n",
      "              Found 0.0 points\n",
      "            Looking for velocity points in 20170728-20170808 (file 128 of 246)\n",
      "              Looking for velocity points in TSX_W69.10N_28Jul17_08Aug17_10-06-04 (file 1 of 1)\n",
      "              Found 62592.0 points\n",
      "            Looking for velocity points in 20170729-20170809 (file 129 of 246)\n",
      "              Looking for velocity points in TSX_W69.10N_29Jul17_09Aug17_20-41-52 (file 1 of 1)\n",
      "              Found 64519.0 points\n",
      "            Looking for velocity points in 20170808-20170819 (file 130 of 246)\n",
      "              Looking for velocity points in TSX_W69.10N_08Aug17_19Aug17_10-06-04 (file 1 of 1)\n",
      "              Found 62018.0 points\n",
      "            Looking for velocity points in 20170809-20170820 (file 131 of 246)\n",
      "              Looking for velocity points in TSX_W69.10N_09Aug17_20Aug17_15-15-23 (file 1 of 1)\n",
      "              Found 124578.0 points\n",
      "            Looking for velocity points in 20170813-20170824 (file 132 of 246)\n",
      "              Looking for velocity points in TSX_W68.60N_13Aug17_24Aug17_10-14-45 (file 1 of 1)\n",
      "              Found 0.0 points\n",
      "            Looking for velocity points in 20170819-20170830 (file 133 of 246)\n",
      "              Looking for velocity points in TSX_W69.10N_19Aug17_30Aug17_10-06-04 (file 1 of 1)\n",
      "              Found 62308.0 points\n",
      "            Looking for velocity points in 20170820-20170831 (file 134 of 246)\n",
      "              Looking for velocity points in TSX_W69.10N_20Aug17_31Aug17_15-15-23 (file 1 of 1)\n",
      "              Found 123730.0 points\n",
      "            Looking for velocity points in 20170824-20170904 (file 135 of 246)\n",
      "              Looking for velocity points in TSX_W68.60N_24Aug17_04Sep17_10-14-46 (file 1 of 1)\n",
      "              Found 0.0 points\n",
      "            Looking for velocity points in 20170830-20170910 (file 136 of 246)\n",
      "              Looking for velocity points in TSX_W69.10N_30Aug17_10Sep17_10-06-05 (file 1 of 1)\n",
      "              Found 62602.0 points\n",
      "            Looking for velocity points in 20170831-20170911 (file 137 of 246)\n",
      "              Looking for velocity points in TSX_W69.10N_31Aug17_11Sep17_15-15-25 (file 1 of 1)\n",
      "              Found 122409.0 points\n",
      "            Looking for velocity points in 20170910-20171002 (file 138 of 246)\n",
      "              Looking for velocity points in TSX_W69.10N_10Sep17_02Oct17_10-06-06 (file 1 of 1)\n",
      "              Found 51996.0 points\n",
      "            Looking for velocity points in 20171002-20171013 (file 139 of 246)\n",
      "              Looking for velocity points in TSX_W69.10N_02Oct17_13Oct17_10-06-07 (file 1 of 1)\n",
      "              Found 63504.0 points\n",
      "            Looking for velocity points in 20171013-20171024 (file 140 of 246)\n",
      "              Looking for velocity points in TSX_W69.10N_13Oct17_24Oct17_10-06-07 (file 1 of 1)\n",
      "              Found 64228.0 points\n",
      "            Looking for velocity points in 20171014-20171025 (file 141 of 246)\n",
      "              Looking for velocity points in TSX_W69.10N_14Oct17_25Oct17_20-41-55 (file 1 of 1)\n",
      "              Found 65175.0 points\n",
      "            Looking for velocity points in 20171024-20171104 (file 142 of 246)\n",
      "              Looking for velocity points in TSX_W69.10N_24Oct17_04Nov17_10-06-07 (file 1 of 1)\n",
      "              Found 64973.0 points\n",
      "            Looking for velocity points in 20171025-20171105 (file 143 of 246)\n",
      "              Looking for velocity points in TSX_W69.10N_25Oct17_05Nov17_20-41-55 (file 1 of 1)\n",
      "              Found 65158.0 points\n",
      "            Looking for velocity points in 20171104-20171115 (file 144 of 246)\n",
      "              Looking for velocity points in TSX_W69.10N_04Nov17_15Nov17_10-06-08 (file 1 of 1)\n",
      "              Found 64402.0 points\n",
      "            Looking for velocity points in 20171105-20171116 (file 145 of 246)\n",
      "              Looking for velocity points in TSX_W69.10N_05Nov17_16Nov17_20-41-55 (file 1 of 1)\n",
      "              Found 65482.0 points\n",
      "            Looking for velocity points in 20171115-20171126 (file 146 of 246)\n",
      "              Looking for velocity points in TSX_W69.10N_15Nov17_26Nov17_10-06-08 (file 1 of 1)\n",
      "              Found 64493.0 points\n",
      "            Looking for velocity points in 20171116-20171127 (file 147 of 246)\n",
      "              Looking for velocity points in TSX_W69.10N_16Nov17_27Nov17_20-41-55 (file 1 of 1)\n",
      "              Found 65717.0 points\n",
      "            Looking for velocity points in 20171126-20171207 (file 148 of 246)\n",
      "              Looking for velocity points in TSX_W69.10N_26Nov17_07Dec17_10-06-07 (file 1 of 1)\n",
      "              Found 64821.0 points\n",
      "            Looking for velocity points in 20171127-20171208 (file 149 of 246)\n",
      "              Looking for velocity points in TSX_W69.10N_27Nov17_08Dec17_20-41-55 (file 1 of 1)\n",
      "              Found 65186.0 points\n",
      "            Looking for velocity points in 20171207-20171218 (file 150 of 246)\n",
      "              Looking for velocity points in TSX_W69.10N_07Dec17_18Dec17_10-06-06 (file 1 of 1)\n",
      "              Found 64659.0 points\n",
      "            Looking for velocity points in 20171208-20171219 (file 151 of 246)\n",
      "              Looking for velocity points in TSX_W69.10N_08Dec17_19Dec17_20-41-55 (file 1 of 1)\n",
      "              Found 65251.0 points\n",
      "            Looking for velocity points in 20171218-20171229 (file 152 of 246)\n",
      "              Looking for velocity points in TSX_W69.10N_18Dec17_29Dec17_10-06-06 (file 1 of 1)\n",
      "              Found 64258.0 points\n",
      "            Looking for velocity points in 20171219-20171230 (file 153 of 246)\n",
      "              Looking for velocity points in TSX_W69.10N_19Dec17_30Dec17_20-41-54 (file 1 of 1)\n",
      "              Found 65924.0 points\n",
      "            Looking for velocity points in 20171229-20180109 (file 154 of 246)\n",
      "              Looking for velocity points in TSX_W69.10N_29Dec17_09Jan18_10-06-06 (file 1 of 1)\n",
      "              Found 65319.0 points\n",
      "            Looking for velocity points in 20171230-20180110 (file 155 of 246)\n",
      "              Looking for velocity points in TSX_W69.10N_30Dec17_10Jan18_15-15-25 (file 1 of 1)\n",
      "              Found 126299.0 points\n",
      "            Looking for velocity points in 20180109-20180120 (file 156 of 246)\n",
      "              Looking for velocity points in TSX_W69.10N_09Jan18_20Jan18_10-06-06 (file 1 of 1)\n",
      "              Found 64456.0 points\n",
      "            Looking for velocity points in 20180110-20180121 (file 157 of 246)\n",
      "              Looking for velocity points in TSX_W69.10N_10Jan18_21Jan18_20-41-53 (file 1 of 1)\n",
      "              Found 65624.0 points\n",
      "            Looking for velocity points in 20180120-20180131 (file 158 of 246)\n",
      "              Looking for velocity points in TSX_W69.10N_20Jan18_31Jan18_10-06-05 (file 1 of 1)\n",
      "              Found 64749.0 points\n",
      "            Looking for velocity points in 20180121-20180201 (file 159 of 246)\n",
      "              Looking for velocity points in TSX_W69.10N_21Jan18_01Feb18_20-41-53 (file 1 of 1)\n"
     ]
    },
    {
     "name": "stdout",
     "output_type": "stream",
     "text": [
      "              Found 65390.0 points\n",
      "            Looking for velocity points in 20180131-20180211 (file 160 of 246)\n",
      "              Looking for velocity points in TSX_W69.10N_31Jan18_11Feb18_10-06-05 (file 1 of 1)\n",
      "              Found 65219.0 points\n",
      "            Looking for velocity points in 20180201-20180212 (file 161 of 246)\n",
      "              Looking for velocity points in TSX_W69.10N_01Feb18_12Feb18_20-41-53 (file 1 of 1)\n",
      "              Found 66538.0 points\n",
      "            Looking for velocity points in 20180211-20180222 (file 162 of 246)\n",
      "              Looking for velocity points in TSX_W69.10N_11Feb18_22Feb18_10-06-04 (file 1 of 1)\n",
      "              Found 66349.0 points\n",
      "            Looking for velocity points in 20180212-20180223 (file 163 of 246)\n",
      "              Looking for velocity points in TSX_W69.10N_12Feb18_23Feb18_20-41-53 (file 1 of 1)\n",
      "              Found 66384.0 points\n",
      "            Looking for velocity points in 20180222-20180305 (file 164 of 246)\n",
      "              Looking for velocity points in TSX_W69.10N_22Feb18_05Mar18_10-06-04 (file 1 of 1)\n",
      "              Found 66304.0 points\n",
      "            Looking for velocity points in 20180223-20180306 (file 165 of 246)\n",
      "              Looking for velocity points in TSX_W69.10N_23Feb18_06Mar18_20-41-52 (file 1 of 1)\n",
      "              Found 66141.0 points\n",
      "            Looking for velocity points in 20180305-20180316 (file 166 of 246)\n",
      "              Looking for velocity points in TSX_W69.10N_05Mar18_16Mar18_10-06-05 (file 1 of 1)\n",
      "              Found 65976.0 points\n",
      "            Looking for velocity points in 20180316-20180327 (file 167 of 246)\n",
      "              Looking for velocity points in TSX_W69.10N_16Mar18_27Mar18_10-06-05 (file 1 of 1)\n",
      "              Found 65768.0 points\n",
      "            Looking for velocity points in 20180327-20180407 (file 168 of 246)\n",
      "              Looking for velocity points in TSX_W69.10N_27Mar18_07Apr18_10-06-06 (file 1 of 1)\n",
      "              Found 65733.0 points\n",
      "            Looking for velocity points in 20180407-20180418 (file 169 of 246)\n",
      "              Looking for velocity points in TSX_W69.10N_07Apr18_18Apr18_10-06-06 (file 1 of 1)\n",
      "              Found 66236.0 points\n",
      "            Looking for velocity points in 20180418-20180429 (file 170 of 246)\n",
      "              Looking for velocity points in TSX_W69.10N_18Apr18_29Apr18_10-06-07 (file 1 of 1)\n",
      "              Found 66329.0 points\n",
      "            Looking for velocity points in 20180419-20180430 (file 171 of 246)\n",
      "              Looking for velocity points in TSX_W69.10N_19Apr18_30Apr18_09-48-57 (file 1 of 1)\n",
      "              Found 95238.0 points\n",
      "            Looking for velocity points in 20180423-20180504 (file 172 of 246)\n",
      "              Looking for velocity points in TSX_W68.60N_23Apr18_04May18_10-14-48 (file 1 of 1)\n",
      "              Found 0.0 points\n",
      "            Looking for velocity points in 20180429-20180510 (file 173 of 246)\n",
      "              Looking for velocity points in TSX_W69.10N_29Apr18_10May18_10-06-08 (file 1 of 1)\n",
      "              Found 65351.0 points\n",
      "            Looking for velocity points in 20180430-20180602 (file 174 of 246)\n",
      "              Looking for velocity points in TSX_W69.10N_30Apr18_02Jun18_09-48-57 (file 1 of 1)\n",
      "              Found 86362.0 points\n",
      "            Looking for velocity points in 20180504-20180526 (file 175 of 246)\n",
      "              Looking for velocity points in TSX_W68.60N_04May18_26May18_10-14-48 (file 1 of 1)\n",
      "              Found 0.0 points\n",
      "            Looking for velocity points in 20180510-20180521 (file 176 of 246)\n",
      "              Looking for velocity points in TSX_W69.10N_10May18_21May18_10-06-07 (file 1 of 1)\n",
      "              Found 65801.0 points\n",
      "            Looking for velocity points in 20180521-20180601 (file 177 of 246)\n",
      "              Looking for velocity points in TSX_W69.10N_21May18_01Jun18_10-06-08 (file 1 of 1)\n",
      "              Found 55279.0 points\n",
      "            Looking for velocity points in 20180526-20180606 (file 178 of 246)\n",
      "              Looking for velocity points in TSX_W68.60N_26May18_06Jun18_10-14-49 (file 1 of 1)\n",
      "              Found 0.0 points\n",
      "            Looking for velocity points in 20180601-20180612 (file 179 of 246)\n",
      "              Looking for velocity points in TSX_W69.10N_01Jun18_12Jun18_10-06-08 (file 1 of 1)\n",
      "              Found 58515.0 points\n",
      "            Looking for velocity points in 20180602-20180613 (file 180 of 246)\n",
      "              Looking for velocity points in TSX_W69.10N_02Jun18_13Jun18_09-48-58 (file 1 of 1)\n",
      "              Found 56902.0 points\n",
      "            Looking for velocity points in 20180606-20180628 (file 181 of 246)\n",
      "              Looking for velocity points in TSX_W68.60N_06Jun18_28Jun18_10-14-50 (file 1 of 1)\n",
      "              Found 0.0 points\n",
      "            Looking for velocity points in 20180612-20180623 (file 182 of 246)\n",
      "              Looking for velocity points in TSX_W69.10N_12Jun18_23Jun18_10-06-08 (file 1 of 1)\n",
      "              Found 64489.0 points\n",
      "            Looking for velocity points in 20180613-20180705 (file 183 of 246)\n",
      "              Looking for velocity points in TSX_W69.10N_13Jun18_05Jul18_09-48-58 (file 1 of 1)\n",
      "              Found 91365.0 points\n",
      "            Looking for velocity points in 20180623-20180704 (file 184 of 246)\n",
      "              Looking for velocity points in TSX_W69.10N_23Jun18_04Jul18_10-06-09 (file 1 of 1)\n",
      "              Found 64709.0 points\n",
      "            Looking for velocity points in 20180628-20180709 (file 185 of 246)\n",
      "              Looking for velocity points in TSX_W68.60N_28Jun18_09Jul18_10-14-50 (file 1 of 1)\n",
      "              Found 0.0 points\n",
      "            Looking for velocity points in 20180704-20180715 (file 186 of 246)\n",
      "              Looking for velocity points in TSX_W69.10N_04Jul18_15Jul18_10-06-10 (file 1 of 1)\n",
      "              Found 64571.0 points\n",
      "            Looking for velocity points in 20180705-20180727 (file 187 of 246)\n",
      "              Looking for velocity points in TSX_W69.10N_05Jul18_27Jul18_09-49-00 (file 1 of 1)\n",
      "              Found 91219.0 points\n",
      "            Looking for velocity points in 20180706-20180717 (file 188 of 246)\n",
      "              Looking for velocity points in TSX_W69.10N_06Jul18_17Jul18_20-24-51 (file 1 of 1)\n",
      "              Found 51354.0 points\n",
      "            Looking for velocity points in 20180709-20180731 (file 189 of 246)\n",
      "              Looking for velocity points in TSX_W68.60N_09Jul18_31Jul18_10-14-50 (file 1 of 1)\n",
      "              Found 0.0 points\n",
      "            Looking for velocity points in 20180715-20180726 (file 190 of 246)\n",
      "              Looking for velocity points in TSX_W69.10N_15Jul18_26Jul18_10-06-10 (file 1 of 1)\n",
      "              Found 63436.0 points\n",
      "            Looking for velocity points in 20180717-20180728 (file 191 of 246)\n",
      "              Looking for velocity points in TSX_W69.10N_17Jul18_28Jul18_20-24-51 (file 1 of 1)\n",
      "              Found 50394.0 points\n",
      "            Looking for velocity points in 20180722-20180802 (file 192 of 246)\n",
      "              Looking for velocity points in TSX_W69.10N_22Jul18_02Aug18_20-33-25 (file 1 of 1)\n",
      "              Found 91378.0 points\n",
      "            Looking for velocity points in 20180728-20180808 (file 193 of 246)\n",
      "              Looking for velocity points in TSX_W69.10N_28Jul18_08Aug18_20-24-52 (file 1 of 1)\n",
      "              Found 50161.0 points\n",
      "            Looking for velocity points in 20180731-20180902 (file 194 of 246)\n",
      "              Looking for velocity points in TSX_W68.60N_31Jul18_02Sep18_10-14-51 (file 1 of 1)\n",
      "              Found 0.0 points\n",
      "            Looking for velocity points in 20180802-20180813 (file 195 of 246)\n",
      "              Looking for velocity points in TSX_W69.10N_02Aug18_13Aug18_20-33-26 (file 1 of 1)\n",
      "              Found 90136.0 points\n",
      "            Looking for velocity points in 20180808-20180819 (file 196 of 246)\n",
      "              Looking for velocity points in TSX_W69.10N_08Aug18_19Aug18_20-24-52 (file 1 of 1)\n",
      "              Found 49683.0 points\n",
      "            Looking for velocity points in 20180813-20180824 (file 197 of 246)\n",
      "              Looking for velocity points in TSX_W69.10N_13Aug18_24Aug18_20-33-26 (file 1 of 1)\n",
      "              Found 91159.0 points\n",
      "            Looking for velocity points in 20180819-20180830 (file 198 of 246)\n",
      "              Looking for velocity points in TSX_W69.10N_19Aug18_30Aug18_20-24-53 (file 1 of 1)\n",
      "              Found 49405.0 points\n",
      "            Looking for velocity points in 20180824-20180904 (file 199 of 246)\n",
      "              Looking for velocity points in TSX_W69.10N_24Aug18_04Sep18_20-33-27 (file 1 of 1)\n"
     ]
    },
    {
     "name": "stdout",
     "output_type": "stream",
     "text": [
      "              Found 90071.0 points\n",
      "            Looking for velocity points in 20180830-20180910 (file 200 of 246)\n",
      "              Looking for velocity points in TSX_W69.10N_30Aug18_10Sep18_20-24-54 (file 1 of 1)\n",
      "              Found 49739.0 points\n",
      "            Looking for velocity points in 20180902-20180913 (file 201 of 246)\n",
      "              Looking for velocity points in TSX_W68.60N_02Sep18_13Sep18_10-14-53 (file 1 of 1)\n",
      "              Found 0.0 points\n",
      "            Looking for velocity points in 20180904-20180915 (file 202 of 246)\n",
      "              Looking for velocity points in TSX_W69.10N_04Sep18_15Sep18_20-33-27 (file 1 of 1)\n",
      "              Found 91965.0 points\n",
      "            Looking for velocity points in 20180909-20180920 (file 203 of 246)\n",
      "              Looking for velocity points in TSX_W69.10N_09Sep18_20Sep18_09-49-03 (file 1 of 1)\n",
      "              Found 93640.0 points\n",
      "            Looking for velocity points in 20180915-20180926 (file 204 of 246)\n",
      "              Looking for velocity points in TSX_W69.10N_15Sep18_26Sep18_20-33-28 (file 1 of 1)\n",
      "              Found 91459.0 points\n",
      "            Looking for velocity points in 20180926-20181007 (file 205 of 246)\n",
      "              Looking for velocity points in TSX_W69.10N_26Sep18_07Oct18_20-33-28 (file 1 of 1)\n",
      "              Found 93138.0 points\n",
      "            Looking for velocity points in 20181007-20181018 (file 206 of 246)\n",
      "              Looking for velocity points in TSX_W69.10N_07Oct18_18Oct18_20-33-28 (file 1 of 1)\n",
      "              Found 93115.0 points\n",
      "            Looking for velocity points in 20181018-20181029 (file 207 of 246)\n",
      "              Looking for velocity points in TSX_W69.10N_18Oct18_29Oct18_20-33-29 (file 1 of 1)\n",
      "              Found 93146.0 points\n",
      "            Looking for velocity points in 20181029-20181109 (file 208 of 246)\n",
      "              Looking for velocity points in TSX_W69.10N_29Oct18_09Nov18_20-33-29 (file 1 of 1)\n",
      "              Found 92755.0 points\n",
      "            Looking for velocity points in 20181109-20181120 (file 209 of 246)\n",
      "              Looking for velocity points in TSX_W69.10N_09Nov18_20Nov18_20-33-29 (file 1 of 1)\n",
      "              Found 94144.0 points\n",
      "            Looking for velocity points in 20181120-20181201 (file 210 of 246)\n",
      "              Looking for velocity points in TSX_W69.10N_20Nov18_01Dec18_20-33-29 (file 1 of 1)\n",
      "              Found 94208.0 points\n",
      "            Looking for velocity points in 20181228-20190108 (file 211 of 246)\n",
      "              Looking for velocity points in TSX_W69.10N_28Dec18_08Jan19_20-42-01 (file 1 of 1)\n",
      "              Found 65306.0 points\n",
      "            Looking for velocity points in 20190108-20190119 (file 212 of 246)\n",
      "              Looking for velocity points in TSX_W69.10N_08Jan19_19Jan19_20-42-01 (file 1 of 1)\n",
      "              Found 66061.0 points\n",
      "            Looking for velocity points in 20190119-20190130 (file 213 of 246)\n",
      "              Looking for velocity points in TSX_W69.10N_19Jan19_30Jan19_20-42-00 (file 1 of 1)\n",
      "              Found 65932.0 points\n",
      "            Looking for velocity points in 20190130-20190210 (file 214 of 246)\n",
      "              Looking for velocity points in TSX_W69.10N_30Jan19_10Feb19_20-42-00 (file 1 of 1)\n",
      "              Found 65526.0 points\n",
      "            Looking for velocity points in 20190210-20190221 (file 215 of 246)\n",
      "              Looking for velocity points in TSX_W69.10N_10Feb19_21Feb19_20-41-59 (file 1 of 1)\n",
      "              Found 65771.0 points\n",
      "            Looking for velocity points in 20190221-20190315 (file 216 of 246)\n",
      "              Looking for velocity points in TSX_W69.10N_21Feb19_15Mar19_20-41-59 (file 1 of 1)\n",
      "              Found 63737.0 points\n",
      "            Looking for velocity points in 20190315-20190326 (file 217 of 246)\n",
      "              Looking for velocity points in TSX_W69.10N_15Mar19_26Mar19_20-42-00 (file 1 of 1)\n",
      "              Found 65503.0 points\n",
      "            Looking for velocity points in 20190326-20190406 (file 218 of 246)\n",
      "              Looking for velocity points in TSX_W69.10N_26Mar19_06Apr19_20-42-00 (file 1 of 1)\n",
      "              Found 60209.0 points\n",
      "            Looking for velocity points in 20190406-20190417 (file 219 of 246)\n",
      "              Looking for velocity points in TSX_W69.10N_06Apr19_17Apr19_20-42-01 (file 1 of 1)\n",
      "              Found 60438.0 points\n",
      "            Looking for velocity points in 20190417-20190428 (file 220 of 246)\n",
      "              Looking for velocity points in TSX_W69.10N_17Apr19_28Apr19_20-42-01 (file 1 of 1)\n",
      "              Found 58961.0 points\n",
      "            Looking for velocity points in 20190421-20190502 (file 221 of 246)\n",
      "              Looking for velocity points in TSX_W68.60N_21Apr19_02May19_10-14-55 (file 1 of 1)\n",
      "              Found 0.0 points\n",
      "            Looking for velocity points in 20190428-20190509 (file 222 of 246)\n",
      "              Looking for velocity points in TSX_W69.10N_28Apr19_09May19_20-42-02 (file 1 of 1)\n",
      "              Found 60416.0 points\n",
      "            Looking for velocity points in 20190509-20190520 (file 223 of 246)\n",
      "              Looking for velocity points in TSX_W69.10N_09May19_20May19_20-42-03 (file 1 of 1)\n",
      "              Found 63053.0 points\n",
      "            Looking for velocity points in 20190520-20190531 (file 224 of 246)\n",
      "              Looking for velocity points in TSX_W69.10N_20May19_31May19_20-42-03 (file 1 of 1)\n",
      "              Found 62430.0 points\n",
      "            Looking for velocity points in 20190531-20190611 (file 225 of 246)\n",
      "              Looking for velocity points in TSX_W69.10N_31May19_11Jun19_20-42-03 (file 1 of 1)\n",
      "              Found 62952.0 points\n",
      "            Looking for velocity points in 20190611-20190622 (file 226 of 246)\n",
      "              Looking for velocity points in TSX_W69.10N_11Jun19_22Jun19_20-42-04 (file 1 of 1)\n",
      "              Found 62919.0 points\n",
      "            Looking for velocity points in 20190622-20190703 (file 227 of 246)\n",
      "              Looking for velocity points in TSX_W69.10N_22Jun19_03Jul19_20-42-05 (file 1 of 1)\n",
      "              Found 64099.0 points\n",
      "            Looking for velocity points in 20190703-20190725 (file 228 of 246)\n",
      "              Looking for velocity points in TSX_W69.10N_03Jul19_25Jul19_20-42-06 (file 1 of 1)\n",
      "              Found 59869.0 points\n",
      "            Looking for velocity points in 20190725-20190805 (file 229 of 246)\n",
      "              Looking for velocity points in TSX_W69.10N_25Jul19_05Aug19_20-42-07 (file 1 of 1)\n",
      "              Found 60072.0 points\n",
      "            Looking for velocity points in 20190729-20190809 (file 230 of 246)\n",
      "              Looking for velocity points in TSX_W68.60N_29Jul19_09Aug19_10-15-00 (file 1 of 1)\n",
      "              Found 0.0 points\n",
      "            Looking for velocity points in 20190805-20190816 (file 231 of 246)\n",
      "              Looking for velocity points in TSX_W69.10N_05Aug19_16Aug19_20-42-07 (file 1 of 1)\n",
      "              Found 63945.0 points\n",
      "            Looking for velocity points in 20190809-20190820 (file 232 of 246)\n",
      "              Looking for velocity points in TSX_W68.60N_09Aug19_20Aug19_10-15-00 (file 1 of 1)\n",
      "              Found 0.0 points\n",
      "            Looking for velocity points in 20190816-20190827 (file 233 of 246)\n",
      "              Looking for velocity points in TSX_W69.10N_16Aug19_27Aug19_20-42-09 (file 1 of 1)\n",
      "              Found 63510.0 points\n",
      "            Looking for velocity points in 20190820-20190831 (file 234 of 246)\n",
      "              Looking for velocity points in TSX_W68.60N_20Aug19_31Aug19_10-15-01 (file 1 of 1)\n",
      "              Found 0.0 points\n",
      "            Looking for velocity points in 20190827-20190907 (file 235 of 246)\n",
      "              Looking for velocity points in TSX_W69.10N_27Aug19_07Sep19_20-42-08 (file 1 of 1)\n",
      "              Found 64297.0 points\n",
      "            Looking for velocity points in 20190831-20190911 (file 236 of 246)\n",
      "              Looking for velocity points in TSX_W68.60N_31Aug19_11Sep19_10-15-02 (file 1 of 1)\n",
      "              Found 0.0 points\n",
      "            Looking for velocity points in 20190907-20190918 (file 237 of 246)\n",
      "              Looking for velocity points in TSX_W69.10N_07Sep19_18Sep19_20-42-09 (file 1 of 1)\n",
      "              Found 63797.0 points\n",
      "            Looking for velocity points in 20190911-20190922 (file 238 of 246)\n",
      "              Looking for velocity points in TSX_W68.60N_11Sep19_22Sep19_10-15-02 (file 1 of 1)\n",
      "              Found 0.0 points\n",
      "            Looking for velocity points in 20190918-20190929 (file 239 of 246)\n",
      "              Looking for velocity points in TSX_W69.10N_18Sep19_29Sep19_20-42-09 (file 1 of 1)\n"
     ]
    },
    {
     "name": "stdout",
     "output_type": "stream",
     "text": [
      "              Found 63520.0 points\n",
      "            Looking for velocity points in 20190929-20191010 (file 240 of 246)\n",
      "              Looking for velocity points in TSX_W69.10N_29Sep19_10Oct19_20-42-10 (file 1 of 1)\n",
      "              Found 63797.0 points\n",
      "            Looking for velocity points in 20191010-20191021 (file 241 of 246)\n",
      "              Looking for velocity points in TSX_W69.10N_10Oct19_21Oct19_20-42-10 (file 1 of 1)\n",
      "              Found 64622.0 points\n",
      "            Looking for velocity points in 20191021-20191112 (file 242 of 246)\n",
      "              Looking for velocity points in TSX_W69.10N_21Oct19_12Nov19_20-42-10 (file 1 of 1)\n",
      "              Found 63163.0 points\n",
      "            Looking for velocity points in 20191112-20191123 (file 243 of 246)\n",
      "              Looking for velocity points in TSX_W69.10N_12Nov19_23Nov19_20-42-11 (file 1 of 1)\n",
      "              Found 65470.0 points\n",
      "            Looking for velocity points in 20191123-20191204 (file 244 of 246)\n",
      "              Looking for velocity points in TSX_W69.10N_23Nov19_04Dec19_20-42-11 (file 1 of 1)\n",
      "              Found 65646.0 points\n",
      "            Looking for velocity points in 20191204-20191215 (file 245 of 246)\n",
      "              Looking for velocity points in TSX_W69.10N_04Dec19_15Dec19_20-42-10 (file 1 of 1)\n",
      "              Found 65405.0 points\n",
      "            Looking for velocity points in 20191215-20191226 (file 246 of 246)\n",
      "              Looking for velocity points in TSX_W69.10N_15Dec19_26Dec19_20-42-09 (file 1 of 1)\n",
      "              Found 65978.0 points\n",
      "        Saved MEaSUREs InSAR file to /Users/michwood/Documents/Research/Projects/Greenland Dynamics/Tmp/Jakobshavn/Velocity/Data/Jakobshavn MEaSUREs InSAR Velocity Grids.nc\n"
     ]
    }
   ],
   "source": [
    "GC.execute_velocity_and_elevation_compilations()"
   ]
  },
  {
   "cell_type": "markdown",
   "metadata": {},
   "source": [
    "Similar to the grids for elevation, this routine created a stack of velocity grids in the `project_folder`. We can make a quick plot of the velocity on Jakobshavn using these grids:"
   ]
  },
  {
   "cell_type": "code",
   "execution_count": 17,
   "metadata": {},
   "outputs": [
    {
     "data": {
      "text/plain": [
       "<matplotlib.colorbar.Colorbar at 0x7faa30603430>"
      ]
     },
     "execution_count": 17,
     "metadata": {},
     "output_type": "execute_result"
    },
    {
     "data": {
      "image/png": "[encoded data removed]",
      "text/plain": [
       "<Figure size 432x288 with 2 Axes>"
      ]
     },
     "metadata": {
      "needs_background": "light"
     },
     "output_type": "display_data"
    }
   ],
   "source": [
    "import os\n",
    "import numpy as np\n",
    "import matplotlib.pyplot as plt\n",
    "import netCDF4 as nc4\n",
    "\n",
    "file_path = os.path.join(project_folder,GC.region_name,'Velocity','Data',GC.region_name+' MEaSUREs InSAR Velocity Grids.nc')\n",
    "ds = nc4.Dataset(file_path)\n",
    "date_groups = list(ds.groups.keys())\n",
    "V = ds.groups[date_groups[0]].variables['V'][:,:]\n",
    "V[V==-99999]=np.nan\n",
    "x = ds.variables['x'][:]\n",
    "y = ds.variables['y'][:]\n",
    "\n",
    "C = plt.imshow(V,extent=[np.min(x),np.max(x),np.min(y),np.max(y)],origin='lower')\n",
    "plt.colorbar(C)"
   ]
  },
  {
   "cell_type": "markdown",
   "metadata": {},
   "source": [
    "## Objective 3: Plot tiemseries of the elevation and speed on Jakobshavn"
   ]
  },
  {
   "cell_type": "markdown",
   "metadata": {},
   "source": [
    "To create a quick timeseries of elevation and speed on Jakobshavn, we will average the fields in a 1 km by 1 km box on the main trunk:"
   ]
  },
  {
   "cell_type": "code",
   "execution_count": 18,
   "metadata": {},
   "outputs": [
    {
     "name": "stderr",
     "output_type": "stream",
     "text": [
      "/Applications/anaconda3/envs/changes/lib/python3.8/site-packages/numpy/ma/core.py:5243: RuntimeWarning: Mean of empty slice.\n",
      "  result = super(MaskedArray, self).mean(axis=axis,\n",
      "/Applications/anaconda3/envs/changes/lib/python3.8/site-packages/numpy/core/_methods.py:162: RuntimeWarning: invalid value encountered in true_divide\n",
      "  ret = um.true_divide(\n"
     ]
    },
    {
     "data": {
      "text/plain": [
       "<matplotlib.legend.Legend at 0x7fa9e00465b0>"
      ]
     },
     "execution_count": 18,
     "metadata": {},
     "output_type": "execute_result"
    },
    {
     "data": {
      "image/png": "[encoded data removed]",
      "text/plain": [
       "<Figure size 720x576 with 2 Axes>"
      ]
     },
     "metadata": {
      "needs_background": "light"
     },
     "output_type": "display_data"
    }
   ],
   "source": [
    "import numpy as np\n",
    "import matplotlib.pyplot as plt\n",
    "from datetime import datetime\n",
    "import netCDF4 as nc4\n",
    "\n",
    "# define the plotting region\n",
    "min_x = -179500\n",
    "min_y = -2280000\n",
    "max_x = min_x + 1000\n",
    "max_y = min_y +1000\n",
    "\n",
    "# get the elevation timeseries\n",
    "file_path = os.path.join(project_folder,GC.region_name,'Elevation','Data',GC.region_name+' GLISTIN Elevation Grids.nc')\n",
    "ds = nc4.Dataset(file_path)\n",
    "x = ds.variables['x'][:]\n",
    "x_indices = np.logical_and(x>=min_x,x<=max_x)\n",
    "y = ds.variables['y'][:]\n",
    "y_indices = np.logical_and(y>=min_y,y<=max_y)\n",
    "dates = list(ds.variables.keys())\n",
    "dates.pop(dates.index('x'))\n",
    "dates.pop(dates.index('y'))\n",
    "elevation_times = []\n",
    "elevation_values = []\n",
    "for date in dates:\n",
    "    time = datetime(int(date[:4]),int(date[4:6]),int(date[6:8]))\n",
    "    elevation_times.append(time)\n",
    "    dem = ds.variables[date][:,:]\n",
    "    dem = dem[:,x_indices]\n",
    "    dem = dem[y_indices,:]\n",
    "    elevation_values.append(np.mean(dem[dem!=-99]))\n",
    "\n",
    "# get the elevation timeseries\n",
    "file_path = os.path.join(project_folder,GC.region_name,'Velocity','Data',GC.region_name+' MEaSUREs InSAR Velocity Grids.nc')\n",
    "ds = nc4.Dataset(file_path)\n",
    "x = ds.variables['x'][:]\n",
    "x_indices = np.logical_and(x>=min_x,x<=max_x)\n",
    "y = ds.variables['y'][:]\n",
    "y_indices = np.logical_and(y>=min_y,y<=max_y)\n",
    "date_pairs = list(ds.groups.keys())\n",
    "velocity_times = []\n",
    "velocity_values = []\n",
    "for date_pair in date_pairs:\n",
    "    date1 = date_pair.split('-')[0]\n",
    "    time1 = datetime(int(date1[:4]),int(date1[4:6]),int(date1[6:8]))\n",
    "#     date2 = date_pair.split('-')[1]\n",
    "#     time2 = datetime(int(date2[:4]),int(date2[4:6]),int(date2[6:8]))\n",
    "#     time = (time1+time2)/2\n",
    "    velocity_times.append(time1)\n",
    "    vel = ds.groups[date_pair].variables['V'][:,:]\n",
    "    vel = vel[:,x_indices]\n",
    "    vel = vel[y_indices,:]\n",
    "    velocity_values.append(np.mean(vel[vel!=-99999]))\n",
    "    \n",
    "    \n",
    "fig = plt.figure(figsize = (10,8))\n",
    "plt.subplot(2,1,1)\n",
    "plt.plot(elevation_times,elevation_values,'b^',label='GLISTIN')\n",
    "plt.gca().set_xlim([datetime(2016,1,1),datetime(2021,1,1)])\n",
    "plt.ylabel('Elevation')\n",
    "plt.legend()\n",
    "\n",
    "plt.subplot(2,1,2)\n",
    "plt.plot(velocity_times,velocity_values,'go',label='MEaSUREs InSAR')\n",
    "plt.gca().set_xlim([datetime(2016,1,1),datetime(2021,1,1)])\n",
    "plt.ylabel('Velocity')\n",
    "plt.legend()\n",
    "\n"
   ]
  },
  {
   "cell_type": "markdown",
   "metadata": {},
   "source": [
    "The plots above demonstrate the thickening and slowdown of Jakobshavn Isbrae that started in 2016. Note that there are many more sources of elevation and velocity available out there, and can be accessed through the CHANGES module."
   ]
  },
  {
   "cell_type": "code",
   "execution_count": null,
   "metadata": {},
   "outputs": [],
   "source": []
  },
  {
   "cell_type": "code",
   "execution_count": null,
   "metadata": {},
   "outputs": [],
   "source": []
  }
 ],
 "metadata": {
  "kernelspec": {
   "display_name": "changes",
   "language": "python",
   "name": "changes"
  },
  "language_info": {
   "codemirror_mode": {
    "name": "ipython",
    "version": 3
   },
   "file_extension": ".py",
   "mimetype": "text/x-python",
   "name": "python",
   "nbconvert_exporter": "python",
   "pygments_lexer": "ipython3",
   "version": "3.8.8"
  }
 },
 "nbformat": 4,
 "nbformat_minor": 1
}
